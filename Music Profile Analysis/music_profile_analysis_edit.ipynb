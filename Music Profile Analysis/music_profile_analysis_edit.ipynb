{
 "cells": [
  {
   "cell_type": "code",
   "execution_count": null,
   "metadata": {},
   "outputs": [
    {
     "name": "stdout",
     "output_type": "stream",
     "text": [
      "   RYM Album  First Name       Last Name First Name localized  \\\n",
      "0      28324         NaN             !!!                  NaN   \n",
      "1   10326582         NaN        100 gecs                  NaN   \n",
      "2    4252371         NaN  Action Bronson                  NaN   \n",
      "3      13932         NaN     Adolescents                  NaN   \n",
      "4    8239019         NaN         Algiers                  NaN   \n",
      "\n",
      "   Last Name localized                   Title  Release_Date  Rating  \\\n",
      "0                  NaN                     !!!          2000       5   \n",
      "1                  NaN               1000 gecs          2019       3   \n",
      "2                  NaN        Rare Chandeliers          2012       6   \n",
      "3                  NaN             Adolescents          1981       7   \n",
      "4                  NaN  The Underside of Power          2017       8   \n",
      "\n",
      "  Ownership  Purchase Date Media Type  \n",
      "0         n            NaN        NaN  \n",
      "1         n            NaN        NaN  \n",
      "2         n            NaN        NaN  \n",
      "3         n            NaN        NaN  \n",
      "4         n            NaN        NaN  \n"
     ]
    }
   ],
   "source": [
    "import pandas as pd\n",
    "import plotly.express as px\n",
    "import plotly.graph_objects as go\n",
    "\n",
    "\n",
    "# Importing the Data\n",
    "df = pd.read_csv(r'...\\FuckItMusic-music-export.csv')\n",
    "print(df.head())"
   ]
  },
  {
   "cell_type": "code",
   "execution_count": 2,
   "metadata": {},
   "outputs": [
    {
     "name": "stdout",
     "output_type": "stream",
     "text": [
      "(1756, 11)\n"
     ]
    }
   ],
   "source": [
    "# Columns and Objects\n",
    "print(df.shape)"
   ]
  },
  {
   "cell_type": "code",
   "execution_count": 3,
   "metadata": {},
   "outputs": [
    {
     "name": "stdout",
     "output_type": "stream",
     "text": [
      "RYM Album                 int64\n",
      " First Name              object\n",
      "Last Name                object\n",
      "First Name localized     object\n",
      " Last Name localized     object\n",
      "Title                    object\n",
      "Release_Date              int64\n",
      "Rating                    int64\n",
      "Ownership                object\n",
      "Purchase Date           float64\n",
      "Media Type               object\n",
      "dtype: object\n"
     ]
    }
   ],
   "source": [
    "# Types of Data\n",
    "print(df.dtypes)"
   ]
  },
  {
   "cell_type": "code",
   "execution_count": 4,
   "metadata": {},
   "outputs": [
    {
     "name": "stdout",
     "output_type": "stream",
     "text": [
      "<class 'pandas.core.frame.DataFrame'>\n",
      "RangeIndex: 1756 entries, 0 to 1755\n",
      "Data columns (total 11 columns):\n",
      " #   Column                Non-Null Count  Dtype  \n",
      "---  ------                --------------  -----  \n",
      " 0   RYM Album             1756 non-null   int64  \n",
      " 1    First Name           105 non-null    object \n",
      " 2   Last Name             1756 non-null   object \n",
      " 3   First Name localized  1 non-null      object \n",
      " 4    Last Name localized  2 non-null      object \n",
      " 5   Title                 1756 non-null   object \n",
      " 6   Release_Date          1756 non-null   int64  \n",
      " 7   Rating                1756 non-null   int64  \n",
      " 8   Ownership             1756 non-null   object \n",
      " 9   Purchase Date         0 non-null      float64\n",
      " 10  Media Type            2 non-null      object \n",
      "dtypes: float64(1), int64(3), object(7)\n",
      "memory usage: 151.0+ KB\n",
      "None\n"
     ]
    }
   ],
   "source": [
    "# More descriptions of the data\n",
    "print(df.info())"
   ]
  },
  {
   "cell_type": "code",
   "execution_count": 5,
   "metadata": {},
   "outputs": [
    {
     "data": {
      "text/plain": [
       "RYM Album                  0\n",
       " First Name             1651\n",
       "Last Name                  0\n",
       "First Name localized    1755\n",
       " Last Name localized    1754\n",
       "Title                      0\n",
       "Release_Date               0\n",
       "Rating                     0\n",
       "Ownership                  0\n",
       "Purchase Date           1756\n",
       "Media Type              1754\n",
       "dtype: int64"
      ]
     },
     "execution_count": 5,
     "metadata": {},
     "output_type": "execute_result"
    }
   ],
   "source": [
    "# Checking if any values are null\n",
    "df.isnull().sum()"
   ]
  },
  {
   "cell_type": "code",
   "execution_count": 6,
   "metadata": {},
   "outputs": [
    {
     "data": {
      "text/html": [
       "<div>\n",
       "<style scoped>\n",
       "    .dataframe tbody tr th:only-of-type {\n",
       "        vertical-align: middle;\n",
       "    }\n",
       "\n",
       "    .dataframe tbody tr th {\n",
       "        vertical-align: top;\n",
       "    }\n",
       "\n",
       "    .dataframe thead th {\n",
       "        text-align: right;\n",
       "    }\n",
       "</style>\n",
       "<table border=\"1\" class=\"dataframe\">\n",
       "  <thead>\n",
       "    <tr style=\"text-align: right;\">\n",
       "      <th></th>\n",
       "      <th>RYM Album</th>\n",
       "      <th>First Name</th>\n",
       "      <th>Last Name</th>\n",
       "      <th>First Name localized</th>\n",
       "      <th>Last Name localized</th>\n",
       "      <th>Title</th>\n",
       "      <th>Release_Date</th>\n",
       "      <th>Rating</th>\n",
       "    </tr>\n",
       "  </thead>\n",
       "  <tbody>\n",
       "    <tr>\n",
       "      <th>0</th>\n",
       "      <td>28324</td>\n",
       "      <td>NaN</td>\n",
       "      <td>!!!</td>\n",
       "      <td>NaN</td>\n",
       "      <td>NaN</td>\n",
       "      <td>!!!</td>\n",
       "      <td>2000</td>\n",
       "      <td>5</td>\n",
       "    </tr>\n",
       "    <tr>\n",
       "      <th>1</th>\n",
       "      <td>10326582</td>\n",
       "      <td>NaN</td>\n",
       "      <td>100 gecs</td>\n",
       "      <td>NaN</td>\n",
       "      <td>NaN</td>\n",
       "      <td>1000 gecs</td>\n",
       "      <td>2019</td>\n",
       "      <td>3</td>\n",
       "    </tr>\n",
       "    <tr>\n",
       "      <th>2</th>\n",
       "      <td>4252371</td>\n",
       "      <td>NaN</td>\n",
       "      <td>Action Bronson</td>\n",
       "      <td>NaN</td>\n",
       "      <td>NaN</td>\n",
       "      <td>Rare Chandeliers</td>\n",
       "      <td>2012</td>\n",
       "      <td>6</td>\n",
       "    </tr>\n",
       "    <tr>\n",
       "      <th>3</th>\n",
       "      <td>13932</td>\n",
       "      <td>NaN</td>\n",
       "      <td>Adolescents</td>\n",
       "      <td>NaN</td>\n",
       "      <td>NaN</td>\n",
       "      <td>Adolescents</td>\n",
       "      <td>1981</td>\n",
       "      <td>7</td>\n",
       "    </tr>\n",
       "    <tr>\n",
       "      <th>4</th>\n",
       "      <td>8239019</td>\n",
       "      <td>NaN</td>\n",
       "      <td>Algiers</td>\n",
       "      <td>NaN</td>\n",
       "      <td>NaN</td>\n",
       "      <td>The Underside of Power</td>\n",
       "      <td>2017</td>\n",
       "      <td>8</td>\n",
       "    </tr>\n",
       "  </tbody>\n",
       "</table>\n",
       "</div>"
      ],
      "text/plain": [
       "   RYM Album  First Name       Last Name First Name localized  \\\n",
       "0      28324         NaN             !!!                  NaN   \n",
       "1   10326582         NaN        100 gecs                  NaN   \n",
       "2    4252371         NaN  Action Bronson                  NaN   \n",
       "3      13932         NaN     Adolescents                  NaN   \n",
       "4    8239019         NaN         Algiers                  NaN   \n",
       "\n",
       "   Last Name localized                   Title  Release_Date  Rating  \n",
       "0                  NaN                     !!!          2000       5  \n",
       "1                  NaN               1000 gecs          2019       3  \n",
       "2                  NaN        Rare Chandeliers          2012       6  \n",
       "3                  NaN             Adolescents          1981       7  \n",
       "4                  NaN  The Underside of Power          2017       8  "
      ]
     },
     "execution_count": 6,
     "metadata": {},
     "output_type": "execute_result"
    }
   ],
   "source": [
    "# Dropping columns with empty values\n",
    "df.drop(columns=['Ownership', 'Purchase Date', 'Media Type'], inplace=True)\n",
    "df.head()"
   ]
  },
  {
   "cell_type": "code",
   "execution_count": 7,
   "metadata": {},
   "outputs": [],
   "source": [
    "# Data Cleaning\n",
    "\n",
    "# Creating a new column \"Artist Name\"\n",
    "df['Artist Name'] = df[' First Name'].astype(str) + ' ' +  df['Last Name']\n",
    "\n",
    "# Creating a new column \" Localized Name\" for special cases\n",
    "df['Localized Name'] = df['First Name localized'] + ' ' + df[' Last Name localized']\n",
    "\n",
    "# Dropping redudant columns\n",
    "df.drop(columns=[' First Name', 'Last Name', 'First Name localized', ' Last Name localized'],inplace=True)\n",
    "\n",
    "# Renaming column for clarity\n",
    "df.rename(columns= {'Release_Date': 'Year_Of_Release'}, inplace=True)\n",
    "\n",
    "# Clearing spaces and NaN values in Artist Name column\n",
    "df['Artist Name'] = df['Artist Name'].str.lstrip('nan')\n",
    "df['Artist Name'] = df['Artist Name'].str.strip()\n",
    "\n",
    "# Replacing special characters with their appropriate replacement for readability\n",
    "df.replace({'&amp;': 'and'}, regex=True, inplace=True)\n",
    "df['Artist Name'] = df['Artist Name'].apply(lambda x: x.replace('$', 's') if '$' in x else x)\n",
    "\n",
    "# Replacing odd names with their appropriate replacement\n",
    "df.replace({'Илья Рачковский': 'Ilya Rachkovsky'}, regex=True, inplace=True)\n",
    "df.replace({'AsAp Ferg': 'ASAP Ferg'}, regex=True, inplace=True)\n",
    "\n",
    "# Finally, dropping the Localized Name column for being redundant\n",
    "df.drop(columns=['Localized Name'],inplace=True)"
   ]
  },
  {
   "cell_type": "code",
   "execution_count": 8,
   "metadata": {},
   "outputs": [
    {
     "data": {
      "text/html": [
       "<div>\n",
       "<style scoped>\n",
       "    .dataframe tbody tr th:only-of-type {\n",
       "        vertical-align: middle;\n",
       "    }\n",
       "\n",
       "    .dataframe tbody tr th {\n",
       "        vertical-align: top;\n",
       "    }\n",
       "\n",
       "    .dataframe thead th {\n",
       "        text-align: right;\n",
       "    }\n",
       "</style>\n",
       "<table border=\"1\" class=\"dataframe\">\n",
       "  <thead>\n",
       "    <tr style=\"text-align: right;\">\n",
       "      <th></th>\n",
       "      <th>RYM Album</th>\n",
       "      <th>Title</th>\n",
       "      <th>Year_Of_Release</th>\n",
       "      <th>Rating</th>\n",
       "      <th>Artist Name</th>\n",
       "    </tr>\n",
       "  </thead>\n",
       "  <tbody>\n",
       "    <tr>\n",
       "      <th>0</th>\n",
       "      <td>28324</td>\n",
       "      <td>!!!</td>\n",
       "      <td>2000</td>\n",
       "      <td>5</td>\n",
       "      <td>!!!</td>\n",
       "    </tr>\n",
       "    <tr>\n",
       "      <th>1</th>\n",
       "      <td>10326582</td>\n",
       "      <td>1000 gecs</td>\n",
       "      <td>2019</td>\n",
       "      <td>3</td>\n",
       "      <td>100 gecs</td>\n",
       "    </tr>\n",
       "    <tr>\n",
       "      <th>2</th>\n",
       "      <td>4252371</td>\n",
       "      <td>Rare Chandeliers</td>\n",
       "      <td>2012</td>\n",
       "      <td>6</td>\n",
       "      <td>Action Bronson</td>\n",
       "    </tr>\n",
       "    <tr>\n",
       "      <th>3</th>\n",
       "      <td>13932</td>\n",
       "      <td>Adolescents</td>\n",
       "      <td>1981</td>\n",
       "      <td>7</td>\n",
       "      <td>Adolescents</td>\n",
       "    </tr>\n",
       "    <tr>\n",
       "      <th>4</th>\n",
       "      <td>8239019</td>\n",
       "      <td>The Underside of Power</td>\n",
       "      <td>2017</td>\n",
       "      <td>8</td>\n",
       "      <td>Algiers</td>\n",
       "    </tr>\n",
       "  </tbody>\n",
       "</table>\n",
       "</div>"
      ],
      "text/plain": [
       "   RYM Album                   Title  Year_Of_Release  Rating     Artist Name\n",
       "0      28324                     !!!             2000       5             !!!\n",
       "1   10326582               1000 gecs             2019       3        100 gecs\n",
       "2    4252371        Rare Chandeliers             2012       6  Action Bronson\n",
       "3      13932             Adolescents             1981       7     Adolescents\n",
       "4    8239019  The Underside of Power             2017       8         Algiers"
      ]
     },
     "execution_count": 8,
     "metadata": {},
     "output_type": "execute_result"
    }
   ],
   "source": [
    "# Viewing the cleaned dataset\n",
    "df.head()"
   ]
  },
  {
   "cell_type": "code",
   "execution_count": null,
   "metadata": {},
   "outputs": [
    {
     "data": {
      "application/vnd.plotly.v1+json": {
       "config": {
        "plotlyServerURL": "https://plot.ly"
       },
       "data": [
        {
         "domain": {
          "x": [
           0,
           1
          ],
          "y": [
           0,
           1
          ]
         },
         "hovertemplate": "Rating=%{label}<extra></extra>",
         "labels": [
          5,
          3,
          6,
          7,
          8,
          9,
          8,
          6,
          8,
          5,
          4,
          6,
          6,
          4,
          7,
          6,
          9,
          7,
          10,
          8,
          7,
          8,
          8,
          6,
          7,
          4,
          7,
          5,
          6,
          6,
          5,
          5,
          5,
          5,
          5,
          8,
          8,
          10,
          6,
          7,
          9,
          8,
          5,
          8,
          7,
          8,
          7,
          8,
          5,
          7,
          7,
          8,
          5,
          9,
          6,
          6,
          4,
          6,
          7,
          7,
          6,
          9,
          8,
          7,
          6,
          7,
          7,
          7,
          6,
          8,
          6,
          7,
          9,
          5,
          8,
          8,
          6,
          6,
          7,
          9,
          9,
          7,
          7,
          7,
          8,
          5,
          8,
          7,
          8,
          8,
          6,
          8,
          10,
          7,
          7,
          8,
          6,
          5,
          6,
          7,
          8,
          7,
          6,
          6,
          8,
          7,
          5,
          7,
          8,
          6,
          6,
          5,
          9,
          10,
          7,
          7,
          9,
          10,
          8,
          9,
          5,
          8,
          8,
          5,
          7,
          8,
          4,
          8,
          4,
          8,
          7,
          7,
          7,
          8,
          6,
          8,
          6,
          8,
          6,
          8,
          6,
          9,
          6,
          7,
          8,
          7,
          6,
          8,
          8,
          7,
          4,
          9,
          8,
          10,
          9,
          8,
          6,
          8,
          8,
          8,
          10,
          7,
          6,
          6,
          8,
          9,
          9,
          5,
          3,
          7,
          7,
          5,
          9,
          8,
          8,
          3,
          2,
          8,
          7,
          8,
          10,
          6,
          9,
          8,
          8,
          7,
          6,
          7,
          10,
          8,
          5,
          5,
          8,
          5,
          6,
          6,
          8,
          9,
          6,
          8,
          4,
          5,
          7,
          5,
          8,
          8,
          6,
          6,
          9,
          2,
          8,
          7,
          8,
          9,
          6,
          6,
          9,
          5,
          6,
          6,
          7,
          7,
          10,
          5,
          9,
          9,
          10,
          6,
          7,
          9,
          7,
          8,
          6,
          3,
          8,
          8,
          9,
          7,
          5,
          5,
          8,
          9,
          6,
          6,
          7,
          7,
          7,
          8,
          4,
          7,
          8,
          7,
          7,
          7,
          8,
          4,
          8,
          5,
          5,
          4,
          9,
          10,
          6,
          3,
          8,
          10,
          7,
          6,
          6,
          5,
          7,
          7,
          4,
          8,
          8,
          5,
          8,
          8,
          8,
          7,
          8,
          9,
          5,
          9,
          8,
          6,
          7,
          4,
          7,
          8,
          8,
          6,
          9,
          4,
          8,
          10,
          7,
          6,
          4,
          9,
          7,
          8,
          7,
          9,
          8,
          9,
          5,
          7,
          7,
          5,
          10,
          9,
          8,
          7,
          9,
          8,
          8,
          9,
          4,
          8,
          8,
          5,
          8,
          7,
          8,
          8,
          8,
          6,
          6,
          8,
          7,
          8,
          9,
          7,
          8,
          4,
          7,
          5,
          6,
          5,
          7,
          6,
          8,
          7,
          3,
          9,
          5,
          5,
          6,
          5,
          6,
          7,
          10,
          7,
          6,
          8,
          9,
          7,
          8,
          4,
          10,
          7,
          9,
          8,
          7,
          8,
          7,
          8,
          4,
          7,
          10,
          6,
          5,
          8,
          9,
          5,
          8,
          10,
          7,
          6,
          8,
          8,
          8,
          8,
          8,
          7,
          9,
          9,
          5,
          7,
          8,
          7,
          6,
          10,
          6,
          9,
          5,
          8,
          4,
          7,
          6,
          7,
          6,
          8,
          6,
          8,
          9,
          5,
          7,
          8,
          7,
          8,
          6,
          10,
          4,
          8,
          10,
          9,
          9,
          8,
          6,
          4,
          7,
          8,
          7,
          6,
          7,
          5,
          9,
          8,
          7,
          8,
          8,
          7,
          5,
          9,
          5,
          6,
          6,
          7,
          6,
          10,
          5,
          8,
          3,
          6,
          9,
          7,
          7,
          7,
          7,
          8,
          9,
          8,
          10,
          6,
          7,
          9,
          6,
          5,
          9,
          7,
          8,
          6,
          9,
          8,
          8,
          5,
          9,
          8,
          7,
          6,
          9,
          9,
          7,
          4,
          6,
          7,
          8,
          4,
          8,
          7,
          8,
          6,
          8,
          7,
          7,
          8,
          5,
          7,
          4,
          5,
          7,
          10,
          7,
          7,
          5,
          6,
          7,
          6,
          6,
          7,
          9,
          8,
          6,
          8,
          7,
          6,
          8,
          8,
          9,
          7,
          5,
          6,
          4,
          9,
          6,
          5,
          7,
          8,
          8,
          5,
          7,
          9,
          8,
          5,
          10,
          7,
          7,
          5,
          6,
          7,
          8,
          3,
          8,
          7,
          9,
          5,
          8,
          6,
          10,
          7,
          8,
          7,
          6,
          7,
          6,
          7,
          6,
          8,
          9,
          4,
          5,
          7,
          10,
          5,
          8,
          7,
          5,
          10,
          6,
          8,
          7,
          7,
          6,
          6,
          7,
          7,
          9,
          5,
          10,
          9,
          5,
          8,
          8,
          6,
          5,
          5,
          7,
          7,
          8,
          7,
          6,
          8,
          8,
          7,
          6,
          8,
          7,
          3,
          7,
          9,
          6,
          4,
          7,
          9,
          7,
          9,
          7,
          6,
          7,
          8,
          8,
          5,
          8,
          9,
          9,
          5,
          8,
          6,
          7,
          8,
          7,
          7,
          7,
          6,
          8,
          6,
          4,
          7,
          8,
          7,
          5,
          7,
          8,
          7,
          9,
          10,
          9,
          8,
          6,
          5,
          7,
          6,
          8,
          9,
          8,
          10,
          9,
          4,
          8,
          6,
          5,
          5,
          7,
          7,
          10,
          9,
          8,
          7,
          7,
          8,
          10,
          4,
          8,
          7,
          8,
          6,
          7,
          9,
          6,
          5,
          8,
          8,
          8,
          7,
          6,
          8,
          6,
          8,
          8,
          5,
          8,
          6,
          6,
          6,
          4,
          6,
          9,
          6,
          9,
          5,
          8,
          9,
          6,
          8,
          8,
          7,
          4,
          6,
          7,
          5,
          4,
          7,
          8,
          9,
          8,
          7,
          8,
          8,
          8,
          8,
          10,
          6,
          7,
          5,
          6,
          10,
          7,
          6,
          6,
          8,
          7,
          7,
          8,
          6,
          7,
          9,
          6,
          7,
          8,
          4,
          8,
          9,
          9,
          8,
          6,
          3,
          8,
          4,
          5,
          7,
          8,
          4,
          5,
          6,
          5,
          7,
          9,
          7,
          9,
          7,
          10,
          6,
          6,
          8,
          7,
          8,
          8,
          4,
          8,
          9,
          9,
          7,
          8,
          4,
          6,
          8,
          6,
          4,
          9,
          8,
          7,
          8,
          4,
          4,
          7,
          4,
          6,
          6,
          8,
          9,
          6,
          7,
          4,
          10,
          10,
          6,
          9,
          7,
          6,
          7,
          7,
          7,
          7,
          7,
          4,
          7,
          8,
          7,
          6,
          8,
          5,
          6,
          5,
          9,
          10,
          7,
          8,
          8,
          8,
          7,
          8,
          7,
          10,
          8,
          6,
          5,
          3,
          7,
          2,
          8,
          6,
          9,
          7,
          4,
          8,
          9,
          4,
          8,
          8,
          8,
          9,
          7,
          9,
          9,
          7,
          6,
          7,
          10,
          7,
          7,
          9,
          6,
          4,
          8,
          8,
          6,
          8,
          4,
          9,
          9,
          9,
          6,
          10,
          10,
          9,
          10,
          4,
          7,
          6,
          7,
          6,
          8,
          9,
          10,
          8,
          9,
          6,
          9,
          5,
          6,
          6,
          4,
          10,
          6,
          8,
          7,
          10,
          8,
          9,
          7,
          5,
          6,
          9,
          5,
          6,
          8,
          7,
          7,
          7,
          6,
          9,
          4,
          5,
          6,
          7,
          7,
          5,
          7,
          10,
          7,
          10,
          7,
          9,
          7,
          5,
          10,
          7,
          5,
          9,
          7,
          8,
          6,
          6,
          6,
          5,
          5,
          7,
          10,
          8,
          8,
          4,
          4,
          9,
          5,
          8,
          10,
          10,
          9,
          5,
          4,
          7,
          6,
          6,
          7,
          8,
          8,
          7,
          7,
          8,
          9,
          7,
          8,
          7,
          7,
          7,
          8,
          4,
          9,
          8,
          8,
          7,
          4,
          8,
          9,
          4,
          8,
          6,
          7,
          6,
          9,
          8,
          7,
          10,
          8,
          5,
          8,
          8,
          7,
          9,
          7,
          6,
          7,
          6,
          6,
          7,
          5,
          10,
          9,
          6,
          6,
          9,
          7,
          7,
          8,
          7,
          5,
          5,
          7,
          9,
          9,
          7,
          8,
          8,
          6,
          6,
          5,
          9,
          5,
          4,
          6,
          8,
          6,
          10,
          8,
          7,
          7,
          5,
          8,
          9,
          5,
          8,
          6,
          7,
          5,
          5,
          4,
          7,
          6,
          7,
          8,
          4,
          6,
          9,
          4,
          7,
          4,
          2,
          6,
          5,
          8,
          7,
          7,
          2,
          4,
          9,
          9,
          5,
          7,
          8,
          4,
          7,
          6,
          8,
          10,
          7,
          7,
          8,
          6,
          7,
          2,
          6,
          8,
          8,
          8,
          6,
          9,
          10,
          6,
          8,
          5,
          6,
          4,
          7,
          10,
          7,
          8,
          8,
          3,
          4,
          6,
          8,
          8,
          10,
          7,
          9,
          7,
          10,
          6,
          10,
          4,
          8,
          5,
          8,
          5,
          7,
          8,
          9,
          9,
          5,
          8,
          10,
          8,
          6,
          5,
          5,
          9,
          6,
          7,
          10,
          7,
          5,
          7,
          8,
          7,
          7,
          8,
          9,
          8,
          5,
          8,
          7,
          8,
          6,
          5,
          7,
          8,
          4,
          7,
          6,
          7,
          7,
          7,
          7,
          7,
          8,
          9,
          6,
          6,
          6,
          7,
          7,
          6,
          8,
          8,
          8,
          9,
          10,
          9,
          5,
          6,
          8,
          8,
          6,
          4,
          9,
          7,
          4,
          10,
          8,
          8,
          7,
          9,
          2,
          2,
          10,
          7,
          5,
          10,
          9,
          6,
          9,
          8,
          7,
          9,
          6,
          6,
          7,
          9,
          7,
          8,
          1,
          9,
          4,
          9,
          5,
          9,
          4,
          7,
          6,
          7,
          7,
          8,
          3,
          6,
          9,
          5,
          5,
          6,
          8,
          8,
          7,
          8,
          7,
          7,
          9,
          7,
          9,
          6,
          6,
          5,
          6,
          7,
          7,
          7,
          8,
          8,
          8,
          9,
          7,
          6,
          7,
          7,
          9,
          8,
          6,
          7,
          5,
          7,
          5,
          6,
          6,
          8,
          7,
          7,
          6,
          8,
          7,
          8,
          8,
          5,
          7,
          6,
          9,
          9,
          7,
          7,
          8,
          6,
          7,
          8,
          3,
          6,
          6,
          4,
          6,
          7,
          9,
          7,
          8,
          7,
          6,
          8,
          7,
          6,
          5,
          8,
          8,
          8,
          8,
          6,
          8,
          9,
          9,
          8,
          10,
          10,
          9,
          8,
          7,
          6,
          7,
          7,
          6,
          4,
          5,
          10,
          8,
          6,
          9,
          6,
          8,
          6,
          9,
          8,
          1,
          10,
          6,
          9,
          8,
          10,
          8,
          7,
          3,
          7,
          1,
          8,
          7,
          9,
          8,
          7,
          7,
          8,
          8,
          6,
          8,
          4,
          9,
          5,
          7,
          7,
          7,
          5,
          4,
          10,
          8,
          7,
          6,
          5,
          7,
          2,
          8,
          5,
          9,
          9,
          6,
          7,
          5,
          10,
          9,
          5,
          8,
          6,
          9,
          5,
          6,
          7,
          6,
          6,
          6,
          7,
          5,
          8,
          7,
          9,
          5,
          6,
          5,
          8,
          4,
          4,
          7,
          6,
          4,
          7,
          7,
          6,
          8,
          5,
          9,
          5,
          5,
          3,
          8,
          10,
          9,
          8,
          4,
          8,
          8,
          10,
          10,
          4,
          7,
          7,
          7,
          9,
          10,
          7,
          6,
          8,
          7,
          7,
          7,
          9,
          7,
          8,
          7,
          9,
          5,
          9,
          7,
          8,
          6,
          6,
          5,
          7,
          9,
          7,
          8,
          5,
          6,
          5,
          5,
          7,
          7,
          7,
          9,
          9,
          8,
          7,
          5,
          9,
          7,
          7,
          6,
          7,
          5,
          3,
          7,
          7,
          9,
          9,
          6,
          8,
          10,
          9,
          8,
          10,
          6,
          9,
          7,
          5,
          7,
          6,
          8,
          9,
          5,
          5,
          6,
          7,
          5,
          10,
          6,
          8,
          8,
          8,
          8,
          8,
          7,
          9,
          8,
          8,
          6,
          7,
          8,
          8,
          8,
          10,
          6,
          4,
          9,
          4,
          7,
          4,
          8,
          9,
          5,
          6,
          6,
          6,
          8,
          8,
          8,
          6,
          8,
          6,
          7,
          10,
          6,
          7,
          5,
          1,
          8,
          8,
          6,
          8,
          9,
          10,
          8,
          8,
          8,
          8,
          9,
          8,
          8,
          6,
          7,
          8,
          9,
          6,
          7,
          7,
          5,
          6,
          8,
          10,
          8,
          6,
          8,
          8,
          7,
          10,
          6,
          9,
          10,
          8,
          4,
          8,
          7,
          7,
          5,
          4,
          5,
          10,
          4,
          10,
          3,
          9,
          8,
          7,
          9,
          5,
          6,
          8,
          6,
          7,
          8,
          5,
          8,
          10,
          5,
          10,
          5,
          8,
          10,
          8,
          5,
          10,
          6,
          8,
          6,
          6,
          9,
          9,
          5,
          6,
          7,
          5,
          5,
          4,
          7,
          6,
          6,
          9,
          8,
          8,
          8,
          6,
          4,
          6,
          6,
          6,
          9,
          6,
          4,
          8,
          6,
          8,
          6,
          7,
          6,
          9,
          7,
          6,
          7,
          7,
          8,
          7,
          5,
          4,
          5,
          9,
          5,
          8,
          7,
          8,
          8,
          10,
          8,
          7,
          5,
          9,
          7,
          6,
          5,
          5,
          5,
          4,
          10,
          6,
          8,
          7,
          8,
          6,
          7,
          6,
          9,
          9,
          6,
          6,
          7,
          6,
          5,
          7,
          6,
          9,
          7,
          9,
          8,
          5,
          7,
          3,
          6,
          6,
          8,
          8,
          7,
          5,
          6,
          4,
          8,
          10,
          10,
          10,
          6,
          3,
          8,
          5,
          6,
          8,
          3,
          6,
          5,
          7,
          9,
          8,
          8,
          8,
          8,
          7,
          8,
          9,
          8,
          6,
          6,
          5,
          9,
          9,
          7,
          9,
          10,
          8,
          8,
          8,
          7,
          8,
          5,
          9,
          9,
          8,
          7,
          7,
          7,
          7,
          7,
          5,
          8,
          8,
          8,
          4,
          5,
          6,
          4,
          5,
          7,
          7,
          8,
          7,
          6,
          8,
          8,
          8,
          10,
          4,
          8,
          8,
          9,
          6,
          9,
          7,
          4,
          5,
          7,
          5,
          9,
          7,
          7,
          7,
          6,
          8,
          5,
          6,
          8,
          6,
          7,
          5,
          6,
          8,
          5,
          9,
          6,
          5,
          5,
          8,
          6,
          5,
          8,
          5,
          8,
          7,
          9,
          7,
          8,
          7,
          7,
          9,
          7,
          6,
          8,
          8,
          6,
          6,
          7,
          5,
          6,
          9,
          8,
          8,
          8,
          7,
          4,
          6,
          6,
          6
         ],
         "legendgroup": "",
         "name": "",
         "showlegend": true,
         "textinfo": "percent+label",
         "textposition": "inside",
         "type": "pie"
        }
       ],
       "layout": {
        "height": 600,
        "legend": {
         "tracegroupgap": 0
        },
        "template": {
         "data": {
          "bar": [
           {
            "error_x": {
             "color": "#2a3f5f"
            },
            "error_y": {
             "color": "#2a3f5f"
            },
            "marker": {
             "line": {
              "color": "#E5ECF6",
              "width": 0.5
             },
             "pattern": {
              "fillmode": "overlay",
              "size": 10,
              "solidity": 0.2
             }
            },
            "type": "bar"
           }
          ],
          "barpolar": [
           {
            "marker": {
             "line": {
              "color": "#E5ECF6",
              "width": 0.5
             },
             "pattern": {
              "fillmode": "overlay",
              "size": 10,
              "solidity": 0.2
             }
            },
            "type": "barpolar"
           }
          ],
          "carpet": [
           {
            "aaxis": {
             "endlinecolor": "#2a3f5f",
             "gridcolor": "white",
             "linecolor": "white",
             "minorgridcolor": "white",
             "startlinecolor": "#2a3f5f"
            },
            "baxis": {
             "endlinecolor": "#2a3f5f",
             "gridcolor": "white",
             "linecolor": "white",
             "minorgridcolor": "white",
             "startlinecolor": "#2a3f5f"
            },
            "type": "carpet"
           }
          ],
          "choropleth": [
           {
            "colorbar": {
             "outlinewidth": 0,
             "ticks": ""
            },
            "type": "choropleth"
           }
          ],
          "contour": [
           {
            "colorbar": {
             "outlinewidth": 0,
             "ticks": ""
            },
            "colorscale": [
             [
              0,
              "#0d0887"
             ],
             [
              0.1111111111111111,
              "#46039f"
             ],
             [
              0.2222222222222222,
              "#7201a8"
             ],
             [
              0.3333333333333333,
              "#9c179e"
             ],
             [
              0.4444444444444444,
              "#bd3786"
             ],
             [
              0.5555555555555556,
              "#d8576b"
             ],
             [
              0.6666666666666666,
              "#ed7953"
             ],
             [
              0.7777777777777778,
              "#fb9f3a"
             ],
             [
              0.8888888888888888,
              "#fdca26"
             ],
             [
              1,
              "#f0f921"
             ]
            ],
            "type": "contour"
           }
          ],
          "contourcarpet": [
           {
            "colorbar": {
             "outlinewidth": 0,
             "ticks": ""
            },
            "type": "contourcarpet"
           }
          ],
          "heatmap": [
           {
            "colorbar": {
             "outlinewidth": 0,
             "ticks": ""
            },
            "colorscale": [
             [
              0,
              "#0d0887"
             ],
             [
              0.1111111111111111,
              "#46039f"
             ],
             [
              0.2222222222222222,
              "#7201a8"
             ],
             [
              0.3333333333333333,
              "#9c179e"
             ],
             [
              0.4444444444444444,
              "#bd3786"
             ],
             [
              0.5555555555555556,
              "#d8576b"
             ],
             [
              0.6666666666666666,
              "#ed7953"
             ],
             [
              0.7777777777777778,
              "#fb9f3a"
             ],
             [
              0.8888888888888888,
              "#fdca26"
             ],
             [
              1,
              "#f0f921"
             ]
            ],
            "type": "heatmap"
           }
          ],
          "heatmapgl": [
           {
            "colorbar": {
             "outlinewidth": 0,
             "ticks": ""
            },
            "colorscale": [
             [
              0,
              "#0d0887"
             ],
             [
              0.1111111111111111,
              "#46039f"
             ],
             [
              0.2222222222222222,
              "#7201a8"
             ],
             [
              0.3333333333333333,
              "#9c179e"
             ],
             [
              0.4444444444444444,
              "#bd3786"
             ],
             [
              0.5555555555555556,
              "#d8576b"
             ],
             [
              0.6666666666666666,
              "#ed7953"
             ],
             [
              0.7777777777777778,
              "#fb9f3a"
             ],
             [
              0.8888888888888888,
              "#fdca26"
             ],
             [
              1,
              "#f0f921"
             ]
            ],
            "type": "heatmapgl"
           }
          ],
          "histogram": [
           {
            "marker": {
             "pattern": {
              "fillmode": "overlay",
              "size": 10,
              "solidity": 0.2
             }
            },
            "type": "histogram"
           }
          ],
          "histogram2d": [
           {
            "colorbar": {
             "outlinewidth": 0,
             "ticks": ""
            },
            "colorscale": [
             [
              0,
              "#0d0887"
             ],
             [
              0.1111111111111111,
              "#46039f"
             ],
             [
              0.2222222222222222,
              "#7201a8"
             ],
             [
              0.3333333333333333,
              "#9c179e"
             ],
             [
              0.4444444444444444,
              "#bd3786"
             ],
             [
              0.5555555555555556,
              "#d8576b"
             ],
             [
              0.6666666666666666,
              "#ed7953"
             ],
             [
              0.7777777777777778,
              "#fb9f3a"
             ],
             [
              0.8888888888888888,
              "#fdca26"
             ],
             [
              1,
              "#f0f921"
             ]
            ],
            "type": "histogram2d"
           }
          ],
          "histogram2dcontour": [
           {
            "colorbar": {
             "outlinewidth": 0,
             "ticks": ""
            },
            "colorscale": [
             [
              0,
              "#0d0887"
             ],
             [
              0.1111111111111111,
              "#46039f"
             ],
             [
              0.2222222222222222,
              "#7201a8"
             ],
             [
              0.3333333333333333,
              "#9c179e"
             ],
             [
              0.4444444444444444,
              "#bd3786"
             ],
             [
              0.5555555555555556,
              "#d8576b"
             ],
             [
              0.6666666666666666,
              "#ed7953"
             ],
             [
              0.7777777777777778,
              "#fb9f3a"
             ],
             [
              0.8888888888888888,
              "#fdca26"
             ],
             [
              1,
              "#f0f921"
             ]
            ],
            "type": "histogram2dcontour"
           }
          ],
          "mesh3d": [
           {
            "colorbar": {
             "outlinewidth": 0,
             "ticks": ""
            },
            "type": "mesh3d"
           }
          ],
          "parcoords": [
           {
            "line": {
             "colorbar": {
              "outlinewidth": 0,
              "ticks": ""
             }
            },
            "type": "parcoords"
           }
          ],
          "pie": [
           {
            "automargin": true,
            "type": "pie"
           }
          ],
          "scatter": [
           {
            "fillpattern": {
             "fillmode": "overlay",
             "size": 10,
             "solidity": 0.2
            },
            "type": "scatter"
           }
          ],
          "scatter3d": [
           {
            "line": {
             "colorbar": {
              "outlinewidth": 0,
              "ticks": ""
             }
            },
            "marker": {
             "colorbar": {
              "outlinewidth": 0,
              "ticks": ""
             }
            },
            "type": "scatter3d"
           }
          ],
          "scattercarpet": [
           {
            "marker": {
             "colorbar": {
              "outlinewidth": 0,
              "ticks": ""
             }
            },
            "type": "scattercarpet"
           }
          ],
          "scattergeo": [
           {
            "marker": {
             "colorbar": {
              "outlinewidth": 0,
              "ticks": ""
             }
            },
            "type": "scattergeo"
           }
          ],
          "scattergl": [
           {
            "marker": {
             "colorbar": {
              "outlinewidth": 0,
              "ticks": ""
             }
            },
            "type": "scattergl"
           }
          ],
          "scattermapbox": [
           {
            "marker": {
             "colorbar": {
              "outlinewidth": 0,
              "ticks": ""
             }
            },
            "type": "scattermapbox"
           }
          ],
          "scatterpolar": [
           {
            "marker": {
             "colorbar": {
              "outlinewidth": 0,
              "ticks": ""
             }
            },
            "type": "scatterpolar"
           }
          ],
          "scatterpolargl": [
           {
            "marker": {
             "colorbar": {
              "outlinewidth": 0,
              "ticks": ""
             }
            },
            "type": "scatterpolargl"
           }
          ],
          "scatterternary": [
           {
            "marker": {
             "colorbar": {
              "outlinewidth": 0,
              "ticks": ""
             }
            },
            "type": "scatterternary"
           }
          ],
          "surface": [
           {
            "colorbar": {
             "outlinewidth": 0,
             "ticks": ""
            },
            "colorscale": [
             [
              0,
              "#0d0887"
             ],
             [
              0.1111111111111111,
              "#46039f"
             ],
             [
              0.2222222222222222,
              "#7201a8"
             ],
             [
              0.3333333333333333,
              "#9c179e"
             ],
             [
              0.4444444444444444,
              "#bd3786"
             ],
             [
              0.5555555555555556,
              "#d8576b"
             ],
             [
              0.6666666666666666,
              "#ed7953"
             ],
             [
              0.7777777777777778,
              "#fb9f3a"
             ],
             [
              0.8888888888888888,
              "#fdca26"
             ],
             [
              1,
              "#f0f921"
             ]
            ],
            "type": "surface"
           }
          ],
          "table": [
           {
            "cells": {
             "fill": {
              "color": "#EBF0F8"
             },
             "line": {
              "color": "white"
             }
            },
            "header": {
             "fill": {
              "color": "#C8D4E3"
             },
             "line": {
              "color": "white"
             }
            },
            "type": "table"
           }
          ]
         },
         "layout": {
          "annotationdefaults": {
           "arrowcolor": "#2a3f5f",
           "arrowhead": 0,
           "arrowwidth": 1
          },
          "autotypenumbers": "strict",
          "coloraxis": {
           "colorbar": {
            "outlinewidth": 0,
            "ticks": ""
           }
          },
          "colorscale": {
           "diverging": [
            [
             0,
             "#8e0152"
            ],
            [
             0.1,
             "#c51b7d"
            ],
            [
             0.2,
             "#de77ae"
            ],
            [
             0.3,
             "#f1b6da"
            ],
            [
             0.4,
             "#fde0ef"
            ],
            [
             0.5,
             "#f7f7f7"
            ],
            [
             0.6,
             "#e6f5d0"
            ],
            [
             0.7,
             "#b8e186"
            ],
            [
             0.8,
             "#7fbc41"
            ],
            [
             0.9,
             "#4d9221"
            ],
            [
             1,
             "#276419"
            ]
           ],
           "sequential": [
            [
             0,
             "#0d0887"
            ],
            [
             0.1111111111111111,
             "#46039f"
            ],
            [
             0.2222222222222222,
             "#7201a8"
            ],
            [
             0.3333333333333333,
             "#9c179e"
            ],
            [
             0.4444444444444444,
             "#bd3786"
            ],
            [
             0.5555555555555556,
             "#d8576b"
            ],
            [
             0.6666666666666666,
             "#ed7953"
            ],
            [
             0.7777777777777778,
             "#fb9f3a"
            ],
            [
             0.8888888888888888,
             "#fdca26"
            ],
            [
             1,
             "#f0f921"
            ]
           ],
           "sequentialminus": [
            [
             0,
             "#0d0887"
            ],
            [
             0.1111111111111111,
             "#46039f"
            ],
            [
             0.2222222222222222,
             "#7201a8"
            ],
            [
             0.3333333333333333,
             "#9c179e"
            ],
            [
             0.4444444444444444,
             "#bd3786"
            ],
            [
             0.5555555555555556,
             "#d8576b"
            ],
            [
             0.6666666666666666,
             "#ed7953"
            ],
            [
             0.7777777777777778,
             "#fb9f3a"
            ],
            [
             0.8888888888888888,
             "#fdca26"
            ],
            [
             1,
             "#f0f921"
            ]
           ]
          },
          "colorway": [
           "#636efa",
           "#EF553B",
           "#00cc96",
           "#ab63fa",
           "#FFA15A",
           "#19d3f3",
           "#FF6692",
           "#B6E880",
           "#FF97FF",
           "#FECB52"
          ],
          "font": {
           "color": "#2a3f5f"
          },
          "geo": {
           "bgcolor": "white",
           "lakecolor": "white",
           "landcolor": "#E5ECF6",
           "showlakes": true,
           "showland": true,
           "subunitcolor": "white"
          },
          "hoverlabel": {
           "align": "left"
          },
          "hovermode": "closest",
          "mapbox": {
           "style": "light"
          },
          "paper_bgcolor": "white",
          "plot_bgcolor": "#E5ECF6",
          "polar": {
           "angularaxis": {
            "gridcolor": "white",
            "linecolor": "white",
            "ticks": ""
           },
           "bgcolor": "#E5ECF6",
           "radialaxis": {
            "gridcolor": "white",
            "linecolor": "white",
            "ticks": ""
           }
          },
          "scene": {
           "xaxis": {
            "backgroundcolor": "#E5ECF6",
            "gridcolor": "white",
            "gridwidth": 2,
            "linecolor": "white",
            "showbackground": true,
            "ticks": "",
            "zerolinecolor": "white"
           },
           "yaxis": {
            "backgroundcolor": "#E5ECF6",
            "gridcolor": "white",
            "gridwidth": 2,
            "linecolor": "white",
            "showbackground": true,
            "ticks": "",
            "zerolinecolor": "white"
           },
           "zaxis": {
            "backgroundcolor": "#E5ECF6",
            "gridcolor": "white",
            "gridwidth": 2,
            "linecolor": "white",
            "showbackground": true,
            "ticks": "",
            "zerolinecolor": "white"
           }
          },
          "shapedefaults": {
           "line": {
            "color": "#2a3f5f"
           }
          },
          "ternary": {
           "aaxis": {
            "gridcolor": "white",
            "linecolor": "white",
            "ticks": ""
           },
           "baxis": {
            "gridcolor": "white",
            "linecolor": "white",
            "ticks": ""
           },
           "bgcolor": "#E5ECF6",
           "caxis": {
            "gridcolor": "white",
            "linecolor": "white",
            "ticks": ""
           }
          },
          "title": {
           "x": 0.05
          },
          "xaxis": {
           "automargin": true,
           "gridcolor": "white",
           "linecolor": "white",
           "ticks": "",
           "title": {
            "standoff": 15
           },
           "zerolinecolor": "white",
           "zerolinewidth": 2
          },
          "yaxis": {
           "automargin": true,
           "gridcolor": "white",
           "linecolor": "white",
           "ticks": "",
           "title": {
            "standoff": 15
           },
           "zerolinecolor": "white",
           "zerolinewidth": 2
          }
         }
        },
        "title": {
         "text": "Distribution of Ratings"
        },
        "width": 1000
       }
      }
     },
     "metadata": {},
     "output_type": "display_data"
    }
   ],
   "source": [
    "# Pie Chart for distribution of ratings\n",
    "fig = px.pie(\n",
    "    df, \n",
    "    names='Rating',\n",
    "    height=600,\n",
    "    width=1000,\n",
    "    title=\"Distribution of Ratings\",)\n",
    "fig.update_traces(textposition = 'inside', textinfo = 'percent+label')\n",
    "\n",
    "fig.show()\n"
   ]
  },
  {
   "cell_type": "code",
   "execution_count": 10,
   "metadata": {},
   "outputs": [
    {
     "name": "stdout",
     "output_type": "stream",
     "text": [
      "7.004555808656036\n"
     ]
    }
   ],
   "source": [
    "# The mean rating of the dataset\n",
    "mean_rating = df['Rating'].mean()\n",
    "print(mean_rating)"
   ]
  },
  {
   "cell_type": "code",
   "execution_count": null,
   "metadata": {},
   "outputs": [
    {
     "data": {
      "application/vnd.plotly.v1+json": {
       "config": {
        "plotlyServerURL": "https://plot.ly"
       },
       "data": [
        {
         "alignmentgroup": "True",
         "hovertemplate": "Decade=%{x}<br>Rating Scale=%{y}<extra></extra>",
         "legendgroup": "",
         "marker": {
          "color": "#636efa",
          "pattern": {
           "shape": ""
          }
         },
         "name": "",
         "offsetgroup": "",
         "orientation": "v",
         "showlegend": false,
         "textposition": "auto",
         "type": "bar",
         "x": [
          1950,
          1960,
          1970,
          1980,
          1990,
          2000,
          2010,
          2020
         ],
         "xaxis": "x",
         "y": [
          7.84,
          7.858333333333333,
          7.548387096774194,
          7.567164179104478,
          7.445887445887446,
          6.985865724381625,
          6.340080971659919,
          6.34054054054054
         ],
         "yaxis": "y"
        }
       ],
       "layout": {
        "barmode": "relative",
        "legend": {
         "tracegroupgap": 0
        },
        "template": {
         "data": {
          "bar": [
           {
            "error_x": {
             "color": "#2a3f5f"
            },
            "error_y": {
             "color": "#2a3f5f"
            },
            "marker": {
             "line": {
              "color": "#E5ECF6",
              "width": 0.5
             },
             "pattern": {
              "fillmode": "overlay",
              "size": 10,
              "solidity": 0.2
             }
            },
            "type": "bar"
           }
          ],
          "barpolar": [
           {
            "marker": {
             "line": {
              "color": "#E5ECF6",
              "width": 0.5
             },
             "pattern": {
              "fillmode": "overlay",
              "size": 10,
              "solidity": 0.2
             }
            },
            "type": "barpolar"
           }
          ],
          "carpet": [
           {
            "aaxis": {
             "endlinecolor": "#2a3f5f",
             "gridcolor": "white",
             "linecolor": "white",
             "minorgridcolor": "white",
             "startlinecolor": "#2a3f5f"
            },
            "baxis": {
             "endlinecolor": "#2a3f5f",
             "gridcolor": "white",
             "linecolor": "white",
             "minorgridcolor": "white",
             "startlinecolor": "#2a3f5f"
            },
            "type": "carpet"
           }
          ],
          "choropleth": [
           {
            "colorbar": {
             "outlinewidth": 0,
             "ticks": ""
            },
            "type": "choropleth"
           }
          ],
          "contour": [
           {
            "colorbar": {
             "outlinewidth": 0,
             "ticks": ""
            },
            "colorscale": [
             [
              0,
              "#0d0887"
             ],
             [
              0.1111111111111111,
              "#46039f"
             ],
             [
              0.2222222222222222,
              "#7201a8"
             ],
             [
              0.3333333333333333,
              "#9c179e"
             ],
             [
              0.4444444444444444,
              "#bd3786"
             ],
             [
              0.5555555555555556,
              "#d8576b"
             ],
             [
              0.6666666666666666,
              "#ed7953"
             ],
             [
              0.7777777777777778,
              "#fb9f3a"
             ],
             [
              0.8888888888888888,
              "#fdca26"
             ],
             [
              1,
              "#f0f921"
             ]
            ],
            "type": "contour"
           }
          ],
          "contourcarpet": [
           {
            "colorbar": {
             "outlinewidth": 0,
             "ticks": ""
            },
            "type": "contourcarpet"
           }
          ],
          "heatmap": [
           {
            "colorbar": {
             "outlinewidth": 0,
             "ticks": ""
            },
            "colorscale": [
             [
              0,
              "#0d0887"
             ],
             [
              0.1111111111111111,
              "#46039f"
             ],
             [
              0.2222222222222222,
              "#7201a8"
             ],
             [
              0.3333333333333333,
              "#9c179e"
             ],
             [
              0.4444444444444444,
              "#bd3786"
             ],
             [
              0.5555555555555556,
              "#d8576b"
             ],
             [
              0.6666666666666666,
              "#ed7953"
             ],
             [
              0.7777777777777778,
              "#fb9f3a"
             ],
             [
              0.8888888888888888,
              "#fdca26"
             ],
             [
              1,
              "#f0f921"
             ]
            ],
            "type": "heatmap"
           }
          ],
          "heatmapgl": [
           {
            "colorbar": {
             "outlinewidth": 0,
             "ticks": ""
            },
            "colorscale": [
             [
              0,
              "#0d0887"
             ],
             [
              0.1111111111111111,
              "#46039f"
             ],
             [
              0.2222222222222222,
              "#7201a8"
             ],
             [
              0.3333333333333333,
              "#9c179e"
             ],
             [
              0.4444444444444444,
              "#bd3786"
             ],
             [
              0.5555555555555556,
              "#d8576b"
             ],
             [
              0.6666666666666666,
              "#ed7953"
             ],
             [
              0.7777777777777778,
              "#fb9f3a"
             ],
             [
              0.8888888888888888,
              "#fdca26"
             ],
             [
              1,
              "#f0f921"
             ]
            ],
            "type": "heatmapgl"
           }
          ],
          "histogram": [
           {
            "marker": {
             "pattern": {
              "fillmode": "overlay",
              "size": 10,
              "solidity": 0.2
             }
            },
            "type": "histogram"
           }
          ],
          "histogram2d": [
           {
            "colorbar": {
             "outlinewidth": 0,
             "ticks": ""
            },
            "colorscale": [
             [
              0,
              "#0d0887"
             ],
             [
              0.1111111111111111,
              "#46039f"
             ],
             [
              0.2222222222222222,
              "#7201a8"
             ],
             [
              0.3333333333333333,
              "#9c179e"
             ],
             [
              0.4444444444444444,
              "#bd3786"
             ],
             [
              0.5555555555555556,
              "#d8576b"
             ],
             [
              0.6666666666666666,
              "#ed7953"
             ],
             [
              0.7777777777777778,
              "#fb9f3a"
             ],
             [
              0.8888888888888888,
              "#fdca26"
             ],
             [
              1,
              "#f0f921"
             ]
            ],
            "type": "histogram2d"
           }
          ],
          "histogram2dcontour": [
           {
            "colorbar": {
             "outlinewidth": 0,
             "ticks": ""
            },
            "colorscale": [
             [
              0,
              "#0d0887"
             ],
             [
              0.1111111111111111,
              "#46039f"
             ],
             [
              0.2222222222222222,
              "#7201a8"
             ],
             [
              0.3333333333333333,
              "#9c179e"
             ],
             [
              0.4444444444444444,
              "#bd3786"
             ],
             [
              0.5555555555555556,
              "#d8576b"
             ],
             [
              0.6666666666666666,
              "#ed7953"
             ],
             [
              0.7777777777777778,
              "#fb9f3a"
             ],
             [
              0.8888888888888888,
              "#fdca26"
             ],
             [
              1,
              "#f0f921"
             ]
            ],
            "type": "histogram2dcontour"
           }
          ],
          "mesh3d": [
           {
            "colorbar": {
             "outlinewidth": 0,
             "ticks": ""
            },
            "type": "mesh3d"
           }
          ],
          "parcoords": [
           {
            "line": {
             "colorbar": {
              "outlinewidth": 0,
              "ticks": ""
             }
            },
            "type": "parcoords"
           }
          ],
          "pie": [
           {
            "automargin": true,
            "type": "pie"
           }
          ],
          "scatter": [
           {
            "fillpattern": {
             "fillmode": "overlay",
             "size": 10,
             "solidity": 0.2
            },
            "type": "scatter"
           }
          ],
          "scatter3d": [
           {
            "line": {
             "colorbar": {
              "outlinewidth": 0,
              "ticks": ""
             }
            },
            "marker": {
             "colorbar": {
              "outlinewidth": 0,
              "ticks": ""
             }
            },
            "type": "scatter3d"
           }
          ],
          "scattercarpet": [
           {
            "marker": {
             "colorbar": {
              "outlinewidth": 0,
              "ticks": ""
             }
            },
            "type": "scattercarpet"
           }
          ],
          "scattergeo": [
           {
            "marker": {
             "colorbar": {
              "outlinewidth": 0,
              "ticks": ""
             }
            },
            "type": "scattergeo"
           }
          ],
          "scattergl": [
           {
            "marker": {
             "colorbar": {
              "outlinewidth": 0,
              "ticks": ""
             }
            },
            "type": "scattergl"
           }
          ],
          "scattermapbox": [
           {
            "marker": {
             "colorbar": {
              "outlinewidth": 0,
              "ticks": ""
             }
            },
            "type": "scattermapbox"
           }
          ],
          "scatterpolar": [
           {
            "marker": {
             "colorbar": {
              "outlinewidth": 0,
              "ticks": ""
             }
            },
            "type": "scatterpolar"
           }
          ],
          "scatterpolargl": [
           {
            "marker": {
             "colorbar": {
              "outlinewidth": 0,
              "ticks": ""
             }
            },
            "type": "scatterpolargl"
           }
          ],
          "scatterternary": [
           {
            "marker": {
             "colorbar": {
              "outlinewidth": 0,
              "ticks": ""
             }
            },
            "type": "scatterternary"
           }
          ],
          "surface": [
           {
            "colorbar": {
             "outlinewidth": 0,
             "ticks": ""
            },
            "colorscale": [
             [
              0,
              "#0d0887"
             ],
             [
              0.1111111111111111,
              "#46039f"
             ],
             [
              0.2222222222222222,
              "#7201a8"
             ],
             [
              0.3333333333333333,
              "#9c179e"
             ],
             [
              0.4444444444444444,
              "#bd3786"
             ],
             [
              0.5555555555555556,
              "#d8576b"
             ],
             [
              0.6666666666666666,
              "#ed7953"
             ],
             [
              0.7777777777777778,
              "#fb9f3a"
             ],
             [
              0.8888888888888888,
              "#fdca26"
             ],
             [
              1,
              "#f0f921"
             ]
            ],
            "type": "surface"
           }
          ],
          "table": [
           {
            "cells": {
             "fill": {
              "color": "#EBF0F8"
             },
             "line": {
              "color": "white"
             }
            },
            "header": {
             "fill": {
              "color": "#C8D4E3"
             },
             "line": {
              "color": "white"
             }
            },
            "type": "table"
           }
          ]
         },
         "layout": {
          "annotationdefaults": {
           "arrowcolor": "#2a3f5f",
           "arrowhead": 0,
           "arrowwidth": 1
          },
          "autotypenumbers": "strict",
          "coloraxis": {
           "colorbar": {
            "outlinewidth": 0,
            "ticks": ""
           }
          },
          "colorscale": {
           "diverging": [
            [
             0,
             "#8e0152"
            ],
            [
             0.1,
             "#c51b7d"
            ],
            [
             0.2,
             "#de77ae"
            ],
            [
             0.3,
             "#f1b6da"
            ],
            [
             0.4,
             "#fde0ef"
            ],
            [
             0.5,
             "#f7f7f7"
            ],
            [
             0.6,
             "#e6f5d0"
            ],
            [
             0.7,
             "#b8e186"
            ],
            [
             0.8,
             "#7fbc41"
            ],
            [
             0.9,
             "#4d9221"
            ],
            [
             1,
             "#276419"
            ]
           ],
           "sequential": [
            [
             0,
             "#0d0887"
            ],
            [
             0.1111111111111111,
             "#46039f"
            ],
            [
             0.2222222222222222,
             "#7201a8"
            ],
            [
             0.3333333333333333,
             "#9c179e"
            ],
            [
             0.4444444444444444,
             "#bd3786"
            ],
            [
             0.5555555555555556,
             "#d8576b"
            ],
            [
             0.6666666666666666,
             "#ed7953"
            ],
            [
             0.7777777777777778,
             "#fb9f3a"
            ],
            [
             0.8888888888888888,
             "#fdca26"
            ],
            [
             1,
             "#f0f921"
            ]
           ],
           "sequentialminus": [
            [
             0,
             "#0d0887"
            ],
            [
             0.1111111111111111,
             "#46039f"
            ],
            [
             0.2222222222222222,
             "#7201a8"
            ],
            [
             0.3333333333333333,
             "#9c179e"
            ],
            [
             0.4444444444444444,
             "#bd3786"
            ],
            [
             0.5555555555555556,
             "#d8576b"
            ],
            [
             0.6666666666666666,
             "#ed7953"
            ],
            [
             0.7777777777777778,
             "#fb9f3a"
            ],
            [
             0.8888888888888888,
             "#fdca26"
            ],
            [
             1,
             "#f0f921"
            ]
           ]
          },
          "colorway": [
           "#636efa",
           "#EF553B",
           "#00cc96",
           "#ab63fa",
           "#FFA15A",
           "#19d3f3",
           "#FF6692",
           "#B6E880",
           "#FF97FF",
           "#FECB52"
          ],
          "font": {
           "color": "#2a3f5f"
          },
          "geo": {
           "bgcolor": "white",
           "lakecolor": "white",
           "landcolor": "#E5ECF6",
           "showlakes": true,
           "showland": true,
           "subunitcolor": "white"
          },
          "hoverlabel": {
           "align": "left"
          },
          "hovermode": "closest",
          "mapbox": {
           "style": "light"
          },
          "paper_bgcolor": "white",
          "plot_bgcolor": "#E5ECF6",
          "polar": {
           "angularaxis": {
            "gridcolor": "white",
            "linecolor": "white",
            "ticks": ""
           },
           "bgcolor": "#E5ECF6",
           "radialaxis": {
            "gridcolor": "white",
            "linecolor": "white",
            "ticks": ""
           }
          },
          "scene": {
           "xaxis": {
            "backgroundcolor": "#E5ECF6",
            "gridcolor": "white",
            "gridwidth": 2,
            "linecolor": "white",
            "showbackground": true,
            "ticks": "",
            "zerolinecolor": "white"
           },
           "yaxis": {
            "backgroundcolor": "#E5ECF6",
            "gridcolor": "white",
            "gridwidth": 2,
            "linecolor": "white",
            "showbackground": true,
            "ticks": "",
            "zerolinecolor": "white"
           },
           "zaxis": {
            "backgroundcolor": "#E5ECF6",
            "gridcolor": "white",
            "gridwidth": 2,
            "linecolor": "white",
            "showbackground": true,
            "ticks": "",
            "zerolinecolor": "white"
           }
          },
          "shapedefaults": {
           "line": {
            "color": "#2a3f5f"
           }
          },
          "ternary": {
           "aaxis": {
            "gridcolor": "white",
            "linecolor": "white",
            "ticks": ""
           },
           "baxis": {
            "gridcolor": "white",
            "linecolor": "white",
            "ticks": ""
           },
           "bgcolor": "#E5ECF6",
           "caxis": {
            "gridcolor": "white",
            "linecolor": "white",
            "ticks": ""
           }
          },
          "title": {
           "x": 0.05
          },
          "xaxis": {
           "automargin": true,
           "gridcolor": "white",
           "linecolor": "white",
           "ticks": "",
           "title": {
            "standoff": 15
           },
           "zerolinecolor": "white",
           "zerolinewidth": 2
          },
          "yaxis": {
           "automargin": true,
           "gridcolor": "white",
           "linecolor": "white",
           "ticks": "",
           "title": {
            "standoff": 15
           },
           "zerolinecolor": "white",
           "zerolinewidth": 2
          }
         }
        },
        "title": {
         "text": "Average Rating By Decade"
        },
        "xaxis": {
         "anchor": "y",
         "domain": [
          0,
          1
         ],
         "title": {
          "text": "Decade"
         }
        },
        "yaxis": {
         "anchor": "x",
         "domain": [
          0,
          1
         ],
         "title": {
          "text": "Rating Scale"
         }
        }
       }
      }
     },
     "metadata": {},
     "output_type": "display_data"
    }
   ],
   "source": [
    "# Finding the mean rating by decade\n",
    "avg_by_decade = df.groupby((df.Year_Of_Release//10)*10)['Rating'].mean().reset_index()\n",
    "fig = px.bar(\n",
    "    x=avg_by_decade['Year_Of_Release'], \n",
    "    y=avg_by_decade['Rating'],\n",
    "    labels={'y':'Rating Scale', 'x':'Decade'}, \n",
    "    title='Average Rating By Decade'\n",
    ")\n",
    "\n",
    "fig.show()\n"
   ]
  },
  {
   "cell_type": "code",
   "execution_count": null,
   "metadata": {},
   "outputs": [
    {
     "name": "stderr",
     "output_type": "stream",
     "text": [
      "C:\\Users\\ebello\\AppData\\Local\\Temp\\ipykernel_20592\\4203613779.py:13: SettingWithCopyWarning:\n",
      "\n",
      "\n",
      "A value is trying to be set on a copy of a slice from a DataFrame.\n",
      "Try using .loc[row_indexer,col_indexer] = value instead\n",
      "\n",
      "See the caveats in the documentation: https://pandas.pydata.org/pandas-docs/stable/user_guide/indexing.html#returning-a-view-versus-a-copy\n",
      "\n"
     ]
    },
    {
     "data": {
      "application/vnd.plotly.v1+json": {
       "config": {
        "plotlyServerURL": "https://plot.ly"
       },
       "data": [
        {
         "hoverinfo": "text",
         "marker": {
          "color": [
           3,
           6,
           2,
           2,
           3,
           2,
           2,
           2,
           2,
           9,
           3,
           3,
           3,
           4,
           7,
           3,
           4,
           6,
           4,
           2,
           4,
           4,
           4,
           4,
           7,
           2,
           2,
           3,
           3,
           3,
           2,
           5,
           2,
           3,
           5,
           2,
           2,
           10,
           5,
           2,
           4,
           3,
           2,
           2,
           2,
           7,
           4,
           4,
           4,
           2,
           6,
           4,
           4,
           3,
           3,
           2,
           6,
           2,
           2,
           2,
           5,
           2,
           5,
           2,
           4,
           13,
           5,
           2,
           2,
           3,
           2,
           12,
           2,
           2,
           3,
           2,
           4,
           2,
           6,
           2,
           3,
           2,
           2,
           3,
           3,
           2,
           2,
           2,
           3,
           5,
           4,
           2,
           2,
           6,
           3,
           4,
           4,
           2,
           2,
           2,
           7,
           2,
           2,
           3,
           2,
           2,
           2,
           3,
           5,
           2,
           3,
           2,
           6,
           2,
           2,
           2,
           3,
           5,
           5,
           2,
           2,
           2,
           5,
           6,
           3,
           3,
           5,
           4,
           2,
           3,
           3,
           3,
           2,
           3,
           3,
           4,
           6,
           2,
           2,
           2,
           2,
           2,
           4,
           2,
           10,
           2,
           2,
           7,
           2,
           8,
           4,
           2,
           2,
           3,
           3,
           4,
           6,
           3,
           4,
           4,
           2,
           2,
           3,
           4,
           2,
           2,
           3,
           2,
           3,
           3,
           3,
           2,
           2,
           2,
           8,
           2,
           14,
           2,
           10,
           8,
           3,
           2,
           6,
           3,
           4,
           4,
           6,
           3,
           3,
           2,
           3,
           3,
           4,
           2,
           2,
           2,
           15,
           3,
           7,
           3,
           5,
           2,
           2,
           2,
           2,
           3,
           2,
           3,
           2,
           3,
           2,
           2,
           3,
           2,
           4,
           2,
           4,
           2,
           11,
           3,
           3,
           2,
           3,
           5,
           2,
           2,
           3,
           8,
           3,
           9,
           3,
           3,
           2,
           2,
           2,
           3,
           4,
           2,
           3,
           2,
           2,
           4,
           3,
           2,
           2,
           2,
           4,
           4,
           2,
           2,
           3,
           2,
           5,
           2,
           5,
           13,
           2,
           2,
           4,
           3,
           5,
           4,
           2,
           5,
           3,
           3,
           3,
           2,
           3,
           8,
           3,
           8,
           2,
           2,
           2,
           2,
           3,
           2,
           3,
           2,
           7,
           5,
           3,
           6,
           2,
           6,
           8,
           2,
           3,
           3,
           3,
           7,
           4,
           2,
           6,
           6,
           2,
           5,
           6,
           2,
           3,
           3,
           2,
           5,
           4,
           2,
           3,
           4,
           2,
           4,
           2,
           2,
           6,
           10,
           5,
           2,
           2,
           3,
           2,
           5,
           6,
           5,
           2,
           3,
           3,
           8,
           2,
           2,
           2,
           4,
           2,
           3,
           2,
           8,
           2,
           3,
           2,
           2,
           4,
           2,
           2,
           2,
           3,
           5
          ],
          "size": 10
         },
         "mode": "markers",
         "text": [
          "Artist: A Tribe Called Quest<br>Rating Count: 3",
          "Artist: Aesop Rock<br>Rating Count: 6",
          "Artist: Against All Logic<br>Rating Count: 2",
          "Artist: Agalloch<br>Rating Count: 2",
          "Artist: Alex G<br>Rating Count: 3",
          "Artist: Algiers<br>Rating Count: 2",
          "Artist: Alvvays<br>Rating Count: 2",
          "Artist: Ana Frango Elétrico<br>Rating Count: 2",
          "Artist: Angel Olsen<br>Rating Count: 2",
          "Artist: Animal Collective<br>Rating Count: 9",
          "Artist: Animals as Leaders<br>Rating Count: 3",
          "Artist: Aphex Twin<br>Rating Count: 3",
          "Artist: Arca<br>Rating Count: 3",
          "Artist: Arcade Fire<br>Rating Count: 4",
          "Artist: Arctic Monkeys<br>Rating Count: 7",
          "Artist: Armand Hammer<br>Rating Count: 3",
          "Artist: At the Drive-In<br>Rating Count: 4",
          "Artist: Autechre<br>Rating Count: 6",
          "Artist: BROCKHAMPTON<br>Rating Count: 4",
          "Artist: Bad Brains<br>Rating Count: 2",
          "Artist: Baroness<br>Rating Count: 4",
          "Artist: Bathory<br>Rating Count: 4",
          "Artist: Battles<br>Rating Count: 4",
          "Artist: Beach House<br>Rating Count: 4",
          "Artist: Beastie Boys<br>Rating Count: 7",
          "Artist: Belle and Sebastian<br>Rating Count: 2",
          "Artist: Beyoncé<br>Rating Count: 2",
          "Artist: Big Black<br>Rating Count: 3",
          "Artist: Big Star<br>Rating Count: 3",
          "Artist: Bill Evans<br>Rating Count: 3",
          "Artist: Bill Evans Trio<br>Rating Count: 2",
          "Artist: Björk<br>Rating Count: 5",
          "Artist: Black Country, New Road<br>Rating Count: 2",
          "Artist: Black Flag<br>Rating Count: 3",
          "Artist: Black Sabbath<br>Rating Count: 5",
          "Artist: Blondie<br>Rating Count: 2",
          "Artist: Boards of Canada<br>Rating Count: 2",
          "Artist: Bob Dylan<br>Rating Count: 10",
          "Artist: Bon Iver<br>Rating Count: 5",
          "Artist: Boris<br>Rating Count: 2",
          "Artist: Brand New<br>Rating Count: 4",
          "Artist: Brian Eno<br>Rating Count: 3",
          "Artist: Bright Eyes<br>Rating Count: 2",
          "Artist: Brittany Howard<br>Rating Count: 2",
          "Artist: Broadcast<br>Rating Count: 2",
          "Artist: Bruce Springsteen<br>Rating Count: 7",
          "Artist: Built to Spill<br>Rating Count: 4",
          "Artist: Burial<br>Rating Count: 4",
          "Artist: Can<br>Rating Count: 4",
          "Artist: Captain Beefheart and His Magic Band<br>Rating Count: 2",
          "Artist: Car Seat Headrest<br>Rating Count: 6",
          "Artist: Caribou<br>Rating Count: 4",
          "Artist: Chance the Rapper<br>Rating Count: 4",
          "Artist: Charles Mingus<br>Rating Count: 3",
          "Artist: Clairo<br>Rating Count: 3",
          "Artist: Clifford Brown and Max Roach<br>Rating Count: 2",
          "Artist: Converge<br>Rating Count: 6",
          "Artist: Cursive<br>Rating Count: 2",
          "Artist: Curtis Mayfield<br>Rating Count: 2",
          "Artist: D'Angelo<br>Rating Count: 2",
          "Artist: Daft Punk<br>Rating Count: 5",
          "Artist: Daniel Johnston<br>Rating Count: 2",
          "Artist: Danny Brown<br>Rating Count: 5",
          "Artist: Darkside<br>Rating Count: 2",
          "Artist: Daughters<br>Rating Count: 4",
          "Artist: David Bowie<br>Rating Count: 13",
          "Artist: Dead Kennedys<br>Rating Count: 5",
          "Artist: Deafheaven<br>Rating Count: 2",
          "Artist: Dean Blunt<br>Rating Count: 2",
          "Artist: Death<br>Rating Count: 3",
          "Artist: Death From Above 1979<br>Rating Count: 2",
          "Artist: Death Grips<br>Rating Count: 12",
          "Artist: Deerhoof<br>Rating Count: 2",
          "Artist: Deerhunter<br>Rating Count: 2",
          "Artist: Denzel Curry<br>Rating Count: 3",
          "Artist: Depeche Mode<br>Rating Count: 2",
          "Artist: Dope Body<br>Rating Count: 4",
          "Artist: Drive Like Jehu<br>Rating Count: 2",
          "Artist: Earl Sweatshirt<br>Rating Count: 6",
          "Artist: Earth<br>Rating Count: 2",
          "Artist: Electric Wizard<br>Rating Count: 3",
          "Artist: Elliott Smith<br>Rating Count: 2",
          "Artist: Elvis Costello<br>Rating Count: 2",
          "Artist: Eminem<br>Rating Count: 3",
          "Artist: Eno<br>Rating Count: 3",
          "Artist: Eric Dolphy<br>Rating Count: 2",
          "Artist: Everything Everything<br>Rating Count: 2",
          "Artist: FKA twigs<br>Rating Count: 2",
          "Artist: Father John Misty<br>Rating Count: 3",
          "Artist: Fiona Apple<br>Rating Count: 5",
          "Artist: Fleet Foxes<br>Rating Count: 4",
          "Artist: Floating Points<br>Rating Count: 2",
          "Artist: Flume<br>Rating Count: 2",
          "Artist: Flying Lotus<br>Rating Count: 6",
          "Artist: Fontaines D.C.<br>Rating Count: 3",
          "Artist: Four Tet<br>Rating Count: 4",
          "Artist: Frank Ocean<br>Rating Count: 4",
          "Artist: Frank Zappa<br>Rating Count: 2",
          "Artist: Freddie Gibbs and Madlib<br>Rating Count: 2",
          "Artist: Fucked Up<br>Rating Count: 2",
          "Artist: Fugazi<br>Rating Count: 7",
          "Artist: Gang of Four<br>Rating Count: 2",
          "Artist: Genesis Owusu<br>Rating Count: 2",
          "Artist: Ghost<br>Rating Count: 3",
          "Artist: Ghostface Killah<br>Rating Count: 2",
          "Artist: Girl Band<br>Rating Count: 2",
          "Artist: Godspeed You Black Emperor!<br>Rating Count: 2",
          "Artist: Godspeed You! Black Emperor<br>Rating Count: 3",
          "Artist: Gojira<br>Rating Count: 5",
          "Artist: Gorillaz<br>Rating Count: 2",
          "Artist: Grimes<br>Rating Count: 3",
          "Artist: Grizzly Bear<br>Rating Count: 2",
          "Artist: Guns n' Roses<br>Rating Count: 6",
          "Artist: HEALTH<br>Rating Count: 2",
          "Artist: Herbie Hancock<br>Rating Count: 2",
          "Artist: Hop Along<br>Rating Count: 2",
          "Artist: Hüsker Dü<br>Rating Count: 3",
          "Artist: IDLES<br>Rating Count: 5",
          "Artist: Iceage<br>Rating Count: 5",
          "Artist: Iggy Pop<br>Rating Count: 2",
          "Artist: Iggy and The Stooges<br>Rating Count: 2",
          "Artist: Iglooghost<br>Rating Count: 2",
          "Artist: Injury Reserve<br>Rating Count: 5",
          "Artist: Interpol<br>Rating Count: 6",
          "Artist: Iron Maiden<br>Rating Count: 3",
          "Artist: JPEGMAFIA<br>Rating Count: 3",
          "Artist: James Blake<br>Rating Count: 5",
          "Artist: Janelle Monáe<br>Rating Count: 4",
          "Artist: Japandroids<br>Rating Count: 2",
          "Artist: Japanese Breakfast<br>Rating Count: 3",
          "Artist: Jay-Z<br>Rating Count: 3",
          "Artist: Jeff Rosenstock<br>Rating Count: 3",
          "Artist: Jessie Ware<br>Rating Count: 2",
          "Artist: Joanna Newsom<br>Rating Count: 3",
          "Artist: Joe Henderson<br>Rating Count: 3",
          "Artist: Joey Badass<br>Rating Count: 4",
          "Artist: John Coltrane<br>Rating Count: 6",
          "Artist: Jonathan Fire*Eater<br>Rating Count: 2",
          "Artist: Joni Mitchell<br>Rating Count: 2",
          "Artist: Joy Division<br>Rating Count: 2",
          "Artist: Julia Holter<br>Rating Count: 2",
          "Artist: Julien Baker<br>Rating Count: 2",
          "Artist: Justice<br>Rating Count: 4",
          "Artist: KEN mode<br>Rating Count: 2",
          "Artist: Kanye West<br>Rating Count: 10",
          "Artist: Kate Bush<br>Rating Count: 2",
          "Artist: Kelela<br>Rating Count: 2",
          "Artist: Kendrick Lamar<br>Rating Count: 7",
          "Artist: Kid Cudi<br>Rating Count: 2",
          "Artist: King Crimson<br>Rating Count: 8",
          "Artist: King Gizzard and The Lizard Wizard<br>Rating Count: 4",
          "Artist: King Krule<br>Rating Count: 2",
          "Artist: Knocked Loose<br>Rating Count: 2",
          "Artist: Kraftwerk<br>Rating Count: 3",
          "Artist: Kvelertak<br>Rating Count: 3",
          "Artist: Kyuss<br>Rating Count: 4",
          "Artist: LCD Soundsystem<br>Rating Count: 6",
          "Artist: La Dispute<br>Rating Count: 3",
          "Artist: Led Zeppelin<br>Rating Count: 4",
          "Artist: Leonard Cohen<br>Rating Count: 4",
          "Artist: Lightning Bolt<br>Rating Count: 2",
          "Artist: Little Simz<br>Rating Count: 2",
          "Artist: Lorde<br>Rating Count: 3",
          "Artist: Lou Reed<br>Rating Count: 4",
          "Artist: Low<br>Rating Count: 2",
          "Artist: M83<br>Rating Count: 2",
          "Artist: MC5<br>Rating Count: 3",
          "Artist: MF DOOM<br>Rating Count: 2",
          "Artist: MGMT<br>Rating Count: 3",
          "Artist: MIKE<br>Rating Count: 3",
          "Artist: Mac DeMarco<br>Rating Count: 3",
          "Artist: Mach-Hommy<br>Rating Count: 2",
          "Artist: Marvin Gaye<br>Rating Count: 2",
          "Artist: Massive Attack<br>Rating Count: 2",
          "Artist: Mastodon<br>Rating Count: 8",
          "Artist: Matmos<br>Rating Count: 2",
          "Artist: Megadeth<br>Rating Count: 14",
          "Artist: Mercury Rev<br>Rating Count: 2",
          "Artist: Metallica<br>Rating Count: 10",
          "Artist: Miles Davis<br>Rating Count: 8",
          "Artist: Minutemen<br>Rating Count: 3",
          "Artist: Mission of Burma<br>Rating Count: 2",
          "Artist: Modest Mouse<br>Rating Count: 6",
          "Artist: Morphine<br>Rating Count: 3",
          "Artist: Mos Def<br>Rating Count: 4",
          "Artist: Moses Sumney<br>Rating Count: 4",
          "Artist: Motörhead<br>Rating Count: 6",
          "Artist: Mount Kimbie<br>Rating Count: 3",
          "Artist: My Bloody Valentine<br>Rating Count: 3",
          "Artist: NEU!<br>Rating Count: 2",
          "Artist: Nails<br>Rating Count: 3",
          "Artist: Napalm Death<br>Rating Count: 3",
          "Artist: Neil Young<br>Rating Count: 4",
          "Artist: Neon Indian<br>Rating Count: 2",
          "Artist: Neutral Milk Hotel<br>Rating Count: 2",
          "Artist: New Order<br>Rating Count: 2",
          "Artist: Nick Cave and The Bad Seeds<br>Rating Count: 15",
          "Artist: Nick Drake<br>Rating Count: 3",
          "Artist: Nicolás Jaar<br>Rating Count: 7",
          "Artist: Nina Simone<br>Rating Count: 3",
          "Artist: Nine Inch Nails<br>Rating Count: 5",
          "Artist: Nirvana<br>Rating Count: 2",
          "Artist: No Age<br>Rating Count: 2",
          "Artist: Nujabes<br>Rating Count: 2",
          "Artist: Olivia Rodrigo<br>Rating Count: 2",
          "Artist: Omar Rodriguez Lopez<br>Rating Count: 3",
          "Artist: Oneohtrix Point Never<br>Rating Count: 2",
          "Artist: Open Mike Eagle<br>Rating Count: 3",
          "Artist: OutKast<br>Rating Count: 2",
          "Artist: Oxbow<br>Rating Count: 3",
          "Artist: P J Harvey<br>Rating Count: 2",
          "Artist: PUP<br>Rating Count: 2",
          "Artist: Panda Bear<br>Rating Count: 3",
          "Artist: Paris Texas<br>Rating Count: 2",
          "Artist: Parquet Courts<br>Rating Count: 4",
          "Artist: Pavement<br>Rating Count: 2",
          "Artist: Perfume Genius<br>Rating Count: 4",
          "Artist: Phoebe Bridgers<br>Rating Count: 2",
          "Artist: Pink Floyd<br>Rating Count: 11",
          "Artist: Pissed Jeans<br>Rating Count: 3",
          "Artist: Pixies<br>Rating Count: 3",
          "Artist: Portishead<br>Rating Count: 2",
          "Artist: Prince<br>Rating Count: 3",
          "Artist: Protomartyr<br>Rating Count: 5",
          "Artist: Public Image Ltd.<br>Rating Count: 2",
          "Artist: Pusha T<br>Rating Count: 2",
          "Artist: Pyrrhon<br>Rating Count: 3",
          "Artist: Queens of the Stone Age<br>Rating Count: 8",
          "Artist: R.E.M.<br>Rating Count: 3",
          "Artist: Radiohead<br>Rating Count: 9",
          "Artist: Rage Against the Machine<br>Rating Count: 3",
          "Artist: Ramones<br>Rating Count: 3",
          "Artist: Randy Newman<br>Rating Count: 2",
          "Artist: Rina Sawayama<br>Rating Count: 2",
          "Artist: Rollins Band<br>Rating Count: 2",
          "Artist: Roxy Music<br>Rating Count: 3",
          "Artist: Run the Jewels<br>Rating Count: 4",
          "Artist: Shellac<br>Rating Count: 2",
          "Artist: Show Me the Body<br>Rating Count: 3",
          "Artist: Siouxsie and The Banshees<br>Rating Count: 2",
          "Artist: Slint<br>Rating Count: 2",
          "Artist: Sonic Youth<br>Rating Count: 4",
          "Artist: Sonic-Youth<br>Rating Count: 3",
          "Artist: Sonny Rollins<br>Rating Count: 2",
          "Artist: Sons of Kemet<br>Rating Count: 2",
          "Artist: Soundgarden<br>Rating Count: 2",
          "Artist: Spoon<br>Rating Count: 4",
          "Artist: Squarepusher<br>Rating Count: 4",
          "Artist: Squid<br>Rating Count: 2",
          "Artist: Standing on the Corner<br>Rating Count: 2",
          "Artist: Stevie Wonder<br>Rating Count: 3",
          "Artist: Stolas<br>Rating Count: 2",
          "Artist: Sufjan Stevens<br>Rating Count: 5",
          "Artist: Suicide<br>Rating Count: 2",
          "Artist: Sun Ra<br>Rating Count: 5",
          "Artist: Swans<br>Rating Count: 13",
          "Artist: Sweet Trip<br>Rating Count: 2",
          "Artist: Swell Maps<br>Rating Count: 2",
          "Artist: TV on the Radio<br>Rating Count: 4",
          "Artist: Talk Talk<br>Rating Count: 3",
          "Artist: Talking Heads<br>Rating Count: 5",
          "Artist: Tame Impala<br>Rating Count: 4",
          "Artist: Tangerine Dream<br>Rating Count: 2",
          "Artist: The 1975<br>Rating Count: 5",
          "Artist: The Antlers<br>Rating Count: 3",
          "Artist: The Armed<br>Rating Count: 3",
          "Artist: The Avalanches<br>Rating Count: 3",
          "Artist: The Band<br>Rating Count: 2",
          "Artist: The Beach Boys<br>Rating Count: 3",
          "Artist: The Beatles<br>Rating Count: 8",
          "Artist: The Birthday Party<br>Rating Count: 3",
          "Artist: The Black Keys<br>Rating Count: 8",
          "Artist: The Blue Nile<br>Rating Count: 2",
          "Artist: The Body<br>Rating Count: 2",
          "Artist: The Books<br>Rating Count: 2",
          "Artist: The Caretaker<br>Rating Count: 2",
          "Artist: The Clash<br>Rating Count: 3",
          "Artist: The Clean<br>Rating Count: 2",
          "Artist: The Comet Is Coming<br>Rating Count: 3",
          "Artist: The Cramps<br>Rating Count: 2",
          "Artist: The Cure<br>Rating Count: 7",
          "Artist: The Dear Hunter<br>Rating Count: 5",
          "Artist: The Dillinger Escape Plan<br>Rating Count: 3",
          "Artist: The Doors<br>Rating Count: 6",
          "Artist: The Durutti Column<br>Rating Count: 2",
          "Artist: The Fall<br>Rating Count: 6",
          "Artist: The Flaming Lips<br>Rating Count: 8",
          "Artist: The Gun Club<br>Rating Count: 2",
          "Artist: The Jesus Lizard<br>Rating Count: 3",
          "Artist: The Jimi Hendrix Experience<br>Rating Count: 3",
          "Artist: The Knife<br>Rating Count: 3",
          "Artist: The Mars Volta<br>Rating Count: 7",
          "Artist: The Microphones<br>Rating Count: 4",
          "Artist: The Modern Jazz Quartet<br>Rating Count: 2",
          "Artist: The Mothers of Invention<br>Rating Count: 6",
          "Artist: The National<br>Rating Count: 6",
          "Artist: The Olivia Tremor Control<br>Rating Count: 2",
          "Artist: The Replacements<br>Rating Count: 5",
          "Artist: The Rolling Stones<br>Rating Count: 6",
          "Artist: The Smile<br>Rating Count: 2",
          "Artist: The Smiths<br>Rating Count: 3",
          "Artist: The Stooges<br>Rating Count: 3",
          "Artist: The Streets<br>Rating Count: 2",
          "Artist: The Strokes<br>Rating Count: 5",
          "Artist: The Velvet Underground<br>Rating Count: 4",
          "Artist: The Walkmen<br>Rating Count: 2",
          "Artist: The Weeknd<br>Rating Count: 3",
          "Artist: The Who<br>Rating Count: 4",
          "Artist: The xx<br>Rating Count: 2",
          "Artist: Thelonious Monk<br>Rating Count: 4",
          "Artist: This Heat<br>Rating Count: 2",
          "Artist: Tindersticks<br>Rating Count: 2",
          "Artist: Titus Andronicus<br>Rating Count: 6",
          "Artist: Tom Waits<br>Rating Count: 10",
          "Artist: Tool<br>Rating Count: 5",
          "Artist: Tortoise<br>Rating Count: 2",
          "Artist: Townes Van Zandt<br>Rating Count: 2",
          "Artist: Tropical Fuck Storm<br>Rating Count: 3",
          "Artist: Turnstile<br>Rating Count: 2",
          "Artist: Tyler, the Creator<br>Rating Count: 5",
          "Artist: Unwound<br>Rating Count: 6",
          "Artist: Vampire Weekend<br>Rating Count: 5",
          "Artist: Van Morrison<br>Rating Count: 2",
          "Artist: Vektor<br>Rating Count: 3",
          "Artist: Viagra Boys<br>Rating Count: 3",
          "Artist: Vince Staples<br>Rating Count: 8",
          "Artist: Weather Report<br>Rating Count: 2",
          "Artist: Ween<br>Rating Count: 2",
          "Artist: Weezer<br>Rating Count: 2",
          "Artist: Wilco<br>Rating Count: 4",
          "Artist: Wipers<br>Rating Count: 2",
          "Artist: Wire<br>Rating Count: 3",
          "Artist: Women<br>Rating Count: 2",
          "Artist: Xiu Xiu<br>Rating Count: 8",
          "Artist: Yard Act<br>Rating Count: 2",
          "Artist: Yes<br>Rating Count: 3",
          "Artist: Yo La Tengo<br>Rating Count: 2",
          "Artist: Young the Giant<br>Rating Count: 2",
          "Artist: Yves Tumor<br>Rating Count: 4",
          "Artist: Zach Bryan<br>Rating Count: 2",
          "Artist: billy woods<br>Rating Count: 2",
          "Artist: billy woods and Kenny Segal<br>Rating Count: 2",
          "Artist: black midi<br>Rating Count: 3",
          "Artist: clipping.<br>Rating Count: 5"
         ],
         "type": "scatter",
         "x": [
          3,
          8,
          9,
          10,
          16,
          17,
          19,
          24,
          28,
          29,
          30,
          32,
          33,
          34,
          36,
          38,
          43,
          45,
          49,
          52,
          53,
          55,
          56,
          58,
          59,
          61,
          63,
          64,
          66,
          67,
          68,
          70,
          71,
          73,
          76,
          80,
          82,
          83,
          85,
          87,
          91,
          92,
          94,
          95,
          96,
          98,
          101,
          102,
          108,
          113,
          115,
          117,
          119,
          120,
          131,
          133,
          142,
          148,
          149,
          151,
          157,
          159,
          160,
          162,
          164,
          166,
          173,
          174,
          175,
          176,
          178,
          179,
          181,
          182,
          186,
          188,
          199,
          200,
          206,
          208,
          213,
          214,
          216,
          218,
          222,
          224,
          226,
          228,
          230,
          238,
          240,
          244,
          246,
          247,
          249,
          250,
          253,
          254,
          256,
          260,
          261,
          266,
          268,
          271,
          272,
          278,
          281,
          282,
          283,
          284,
          289,
          291,
          296,
          297,
          301,
          303,
          306,
          307,
          310,
          311,
          312,
          313,
          315,
          316,
          317,
          321,
          327,
          332,
          333,
          334,
          337,
          342,
          343,
          346,
          348,
          349,
          351,
          359,
          361,
          364,
          366,
          368,
          369,
          370,
          374,
          375,
          377,
          380,
          383,
          387,
          389,
          390,
          391,
          392,
          393,
          394,
          396,
          397,
          405,
          407,
          409,
          415,
          416,
          417,
          419,
          422,
          423,
          425,
          426,
          427,
          428,
          429,
          441,
          443,
          444,
          445,
          453,
          456,
          459,
          462,
          470,
          472,
          477,
          482,
          484,
          485,
          486,
          488,
          491,
          493,
          494,
          496,
          501,
          504,
          506,
          507,
          510,
          512,
          513,
          515,
          516,
          517,
          518,
          523,
          524,
          525,
          526,
          527,
          530,
          531,
          532,
          534,
          536,
          538,
          539,
          542,
          546,
          551,
          555,
          556,
          557,
          562,
          566,
          569,
          571,
          574,
          575,
          577,
          579,
          581,
          583,
          584,
          585,
          594,
          600,
          601,
          603,
          617,
          618,
          625,
          633,
          645,
          646,
          647,
          648,
          651,
          660,
          661,
          662,
          666,
          670,
          671,
          675,
          677,
          679,
          681,
          682,
          683,
          688,
          689,
          690,
          691,
          692,
          699,
          701,
          702,
          704,
          705,
          707,
          708,
          709,
          710,
          711,
          712,
          713,
          715,
          719,
          720,
          721,
          722,
          723,
          725,
          727,
          729,
          732,
          733,
          736,
          739,
          741,
          743,
          744,
          749,
          750,
          752,
          754,
          757,
          760,
          767,
          768,
          770,
          771,
          777,
          779,
          780,
          784,
          787,
          788,
          789,
          791,
          793,
          798,
          805,
          807,
          809,
          810,
          812,
          813,
          815,
          816,
          817,
          822,
          823,
          824,
          825,
          828,
          831,
          835,
          838,
          839,
          843,
          845,
          846,
          850,
          856,
          857,
          859,
          860,
          863,
          867,
          868,
          870,
          871,
          872,
          873
         ],
         "y": [
          3,
          6,
          2,
          2,
          3,
          2,
          2,
          2,
          2,
          9,
          3,
          3,
          3,
          4,
          7,
          3,
          4,
          6,
          4,
          2,
          4,
          4,
          4,
          4,
          7,
          2,
          2,
          3,
          3,
          3,
          2,
          5,
          2,
          3,
          5,
          2,
          2,
          10,
          5,
          2,
          4,
          3,
          2,
          2,
          2,
          7,
          4,
          4,
          4,
          2,
          6,
          4,
          4,
          3,
          3,
          2,
          6,
          2,
          2,
          2,
          5,
          2,
          5,
          2,
          4,
          13,
          5,
          2,
          2,
          3,
          2,
          12,
          2,
          2,
          3,
          2,
          4,
          2,
          6,
          2,
          3,
          2,
          2,
          3,
          3,
          2,
          2,
          2,
          3,
          5,
          4,
          2,
          2,
          6,
          3,
          4,
          4,
          2,
          2,
          2,
          7,
          2,
          2,
          3,
          2,
          2,
          2,
          3,
          5,
          2,
          3,
          2,
          6,
          2,
          2,
          2,
          3,
          5,
          5,
          2,
          2,
          2,
          5,
          6,
          3,
          3,
          5,
          4,
          2,
          3,
          3,
          3,
          2,
          3,
          3,
          4,
          6,
          2,
          2,
          2,
          2,
          2,
          4,
          2,
          10,
          2,
          2,
          7,
          2,
          8,
          4,
          2,
          2,
          3,
          3,
          4,
          6,
          3,
          4,
          4,
          2,
          2,
          3,
          4,
          2,
          2,
          3,
          2,
          3,
          3,
          3,
          2,
          2,
          2,
          8,
          2,
          14,
          2,
          10,
          8,
          3,
          2,
          6,
          3,
          4,
          4,
          6,
          3,
          3,
          2,
          3,
          3,
          4,
          2,
          2,
          2,
          15,
          3,
          7,
          3,
          5,
          2,
          2,
          2,
          2,
          3,
          2,
          3,
          2,
          3,
          2,
          2,
          3,
          2,
          4,
          2,
          4,
          2,
          11,
          3,
          3,
          2,
          3,
          5,
          2,
          2,
          3,
          8,
          3,
          9,
          3,
          3,
          2,
          2,
          2,
          3,
          4,
          2,
          3,
          2,
          2,
          4,
          3,
          2,
          2,
          2,
          4,
          4,
          2,
          2,
          3,
          2,
          5,
          2,
          5,
          13,
          2,
          2,
          4,
          3,
          5,
          4,
          2,
          5,
          3,
          3,
          3,
          2,
          3,
          8,
          3,
          8,
          2,
          2,
          2,
          2,
          3,
          2,
          3,
          2,
          7,
          5,
          3,
          6,
          2,
          6,
          8,
          2,
          3,
          3,
          3,
          7,
          4,
          2,
          6,
          6,
          2,
          5,
          6,
          2,
          3,
          3,
          2,
          5,
          4,
          2,
          3,
          4,
          2,
          4,
          2,
          2,
          6,
          10,
          5,
          2,
          2,
          3,
          2,
          5,
          6,
          5,
          2,
          3,
          3,
          8,
          2,
          2,
          2,
          4,
          2,
          3,
          2,
          8,
          2,
          3,
          2,
          2,
          4,
          2,
          2,
          2,
          3,
          5
         ]
        }
       ],
       "layout": {
        "template": {
         "data": {
          "bar": [
           {
            "error_x": {
             "color": "#2a3f5f"
            },
            "error_y": {
             "color": "#2a3f5f"
            },
            "marker": {
             "line": {
              "color": "#E5ECF6",
              "width": 0.5
             },
             "pattern": {
              "fillmode": "overlay",
              "size": 10,
              "solidity": 0.2
             }
            },
            "type": "bar"
           }
          ],
          "barpolar": [
           {
            "marker": {
             "line": {
              "color": "#E5ECF6",
              "width": 0.5
             },
             "pattern": {
              "fillmode": "overlay",
              "size": 10,
              "solidity": 0.2
             }
            },
            "type": "barpolar"
           }
          ],
          "carpet": [
           {
            "aaxis": {
             "endlinecolor": "#2a3f5f",
             "gridcolor": "white",
             "linecolor": "white",
             "minorgridcolor": "white",
             "startlinecolor": "#2a3f5f"
            },
            "baxis": {
             "endlinecolor": "#2a3f5f",
             "gridcolor": "white",
             "linecolor": "white",
             "minorgridcolor": "white",
             "startlinecolor": "#2a3f5f"
            },
            "type": "carpet"
           }
          ],
          "choropleth": [
           {
            "colorbar": {
             "outlinewidth": 0,
             "ticks": ""
            },
            "type": "choropleth"
           }
          ],
          "contour": [
           {
            "colorbar": {
             "outlinewidth": 0,
             "ticks": ""
            },
            "colorscale": [
             [
              0,
              "#0d0887"
             ],
             [
              0.1111111111111111,
              "#46039f"
             ],
             [
              0.2222222222222222,
              "#7201a8"
             ],
             [
              0.3333333333333333,
              "#9c179e"
             ],
             [
              0.4444444444444444,
              "#bd3786"
             ],
             [
              0.5555555555555556,
              "#d8576b"
             ],
             [
              0.6666666666666666,
              "#ed7953"
             ],
             [
              0.7777777777777778,
              "#fb9f3a"
             ],
             [
              0.8888888888888888,
              "#fdca26"
             ],
             [
              1,
              "#f0f921"
             ]
            ],
            "type": "contour"
           }
          ],
          "contourcarpet": [
           {
            "colorbar": {
             "outlinewidth": 0,
             "ticks": ""
            },
            "type": "contourcarpet"
           }
          ],
          "heatmap": [
           {
            "colorbar": {
             "outlinewidth": 0,
             "ticks": ""
            },
            "colorscale": [
             [
              0,
              "#0d0887"
             ],
             [
              0.1111111111111111,
              "#46039f"
             ],
             [
              0.2222222222222222,
              "#7201a8"
             ],
             [
              0.3333333333333333,
              "#9c179e"
             ],
             [
              0.4444444444444444,
              "#bd3786"
             ],
             [
              0.5555555555555556,
              "#d8576b"
             ],
             [
              0.6666666666666666,
              "#ed7953"
             ],
             [
              0.7777777777777778,
              "#fb9f3a"
             ],
             [
              0.8888888888888888,
              "#fdca26"
             ],
             [
              1,
              "#f0f921"
             ]
            ],
            "type": "heatmap"
           }
          ],
          "heatmapgl": [
           {
            "colorbar": {
             "outlinewidth": 0,
             "ticks": ""
            },
            "colorscale": [
             [
              0,
              "#0d0887"
             ],
             [
              0.1111111111111111,
              "#46039f"
             ],
             [
              0.2222222222222222,
              "#7201a8"
             ],
             [
              0.3333333333333333,
              "#9c179e"
             ],
             [
              0.4444444444444444,
              "#bd3786"
             ],
             [
              0.5555555555555556,
              "#d8576b"
             ],
             [
              0.6666666666666666,
              "#ed7953"
             ],
             [
              0.7777777777777778,
              "#fb9f3a"
             ],
             [
              0.8888888888888888,
              "#fdca26"
             ],
             [
              1,
              "#f0f921"
             ]
            ],
            "type": "heatmapgl"
           }
          ],
          "histogram": [
           {
            "marker": {
             "pattern": {
              "fillmode": "overlay",
              "size": 10,
              "solidity": 0.2
             }
            },
            "type": "histogram"
           }
          ],
          "histogram2d": [
           {
            "colorbar": {
             "outlinewidth": 0,
             "ticks": ""
            },
            "colorscale": [
             [
              0,
              "#0d0887"
             ],
             [
              0.1111111111111111,
              "#46039f"
             ],
             [
              0.2222222222222222,
              "#7201a8"
             ],
             [
              0.3333333333333333,
              "#9c179e"
             ],
             [
              0.4444444444444444,
              "#bd3786"
             ],
             [
              0.5555555555555556,
              "#d8576b"
             ],
             [
              0.6666666666666666,
              "#ed7953"
             ],
             [
              0.7777777777777778,
              "#fb9f3a"
             ],
             [
              0.8888888888888888,
              "#fdca26"
             ],
             [
              1,
              "#f0f921"
             ]
            ],
            "type": "histogram2d"
           }
          ],
          "histogram2dcontour": [
           {
            "colorbar": {
             "outlinewidth": 0,
             "ticks": ""
            },
            "colorscale": [
             [
              0,
              "#0d0887"
             ],
             [
              0.1111111111111111,
              "#46039f"
             ],
             [
              0.2222222222222222,
              "#7201a8"
             ],
             [
              0.3333333333333333,
              "#9c179e"
             ],
             [
              0.4444444444444444,
              "#bd3786"
             ],
             [
              0.5555555555555556,
              "#d8576b"
             ],
             [
              0.6666666666666666,
              "#ed7953"
             ],
             [
              0.7777777777777778,
              "#fb9f3a"
             ],
             [
              0.8888888888888888,
              "#fdca26"
             ],
             [
              1,
              "#f0f921"
             ]
            ],
            "type": "histogram2dcontour"
           }
          ],
          "mesh3d": [
           {
            "colorbar": {
             "outlinewidth": 0,
             "ticks": ""
            },
            "type": "mesh3d"
           }
          ],
          "parcoords": [
           {
            "line": {
             "colorbar": {
              "outlinewidth": 0,
              "ticks": ""
             }
            },
            "type": "parcoords"
           }
          ],
          "pie": [
           {
            "automargin": true,
            "type": "pie"
           }
          ],
          "scatter": [
           {
            "fillpattern": {
             "fillmode": "overlay",
             "size": 10,
             "solidity": 0.2
            },
            "type": "scatter"
           }
          ],
          "scatter3d": [
           {
            "line": {
             "colorbar": {
              "outlinewidth": 0,
              "ticks": ""
             }
            },
            "marker": {
             "colorbar": {
              "outlinewidth": 0,
              "ticks": ""
             }
            },
            "type": "scatter3d"
           }
          ],
          "scattercarpet": [
           {
            "marker": {
             "colorbar": {
              "outlinewidth": 0,
              "ticks": ""
             }
            },
            "type": "scattercarpet"
           }
          ],
          "scattergeo": [
           {
            "marker": {
             "colorbar": {
              "outlinewidth": 0,
              "ticks": ""
             }
            },
            "type": "scattergeo"
           }
          ],
          "scattergl": [
           {
            "marker": {
             "colorbar": {
              "outlinewidth": 0,
              "ticks": ""
             }
            },
            "type": "scattergl"
           }
          ],
          "scattermapbox": [
           {
            "marker": {
             "colorbar": {
              "outlinewidth": 0,
              "ticks": ""
             }
            },
            "type": "scattermapbox"
           }
          ],
          "scatterpolar": [
           {
            "marker": {
             "colorbar": {
              "outlinewidth": 0,
              "ticks": ""
             }
            },
            "type": "scatterpolar"
           }
          ],
          "scatterpolargl": [
           {
            "marker": {
             "colorbar": {
              "outlinewidth": 0,
              "ticks": ""
             }
            },
            "type": "scatterpolargl"
           }
          ],
          "scatterternary": [
           {
            "marker": {
             "colorbar": {
              "outlinewidth": 0,
              "ticks": ""
             }
            },
            "type": "scatterternary"
           }
          ],
          "surface": [
           {
            "colorbar": {
             "outlinewidth": 0,
             "ticks": ""
            },
            "colorscale": [
             [
              0,
              "#0d0887"
             ],
             [
              0.1111111111111111,
              "#46039f"
             ],
             [
              0.2222222222222222,
              "#7201a8"
             ],
             [
              0.3333333333333333,
              "#9c179e"
             ],
             [
              0.4444444444444444,
              "#bd3786"
             ],
             [
              0.5555555555555556,
              "#d8576b"
             ],
             [
              0.6666666666666666,
              "#ed7953"
             ],
             [
              0.7777777777777778,
              "#fb9f3a"
             ],
             [
              0.8888888888888888,
              "#fdca26"
             ],
             [
              1,
              "#f0f921"
             ]
            ],
            "type": "surface"
           }
          ],
          "table": [
           {
            "cells": {
             "fill": {
              "color": "#EBF0F8"
             },
             "line": {
              "color": "white"
             }
            },
            "header": {
             "fill": {
              "color": "#C8D4E3"
             },
             "line": {
              "color": "white"
             }
            },
            "type": "table"
           }
          ]
         },
         "layout": {
          "annotationdefaults": {
           "arrowcolor": "#2a3f5f",
           "arrowhead": 0,
           "arrowwidth": 1
          },
          "autotypenumbers": "strict",
          "coloraxis": {
           "colorbar": {
            "outlinewidth": 0,
            "ticks": ""
           }
          },
          "colorscale": {
           "diverging": [
            [
             0,
             "#8e0152"
            ],
            [
             0.1,
             "#c51b7d"
            ],
            [
             0.2,
             "#de77ae"
            ],
            [
             0.3,
             "#f1b6da"
            ],
            [
             0.4,
             "#fde0ef"
            ],
            [
             0.5,
             "#f7f7f7"
            ],
            [
             0.6,
             "#e6f5d0"
            ],
            [
             0.7,
             "#b8e186"
            ],
            [
             0.8,
             "#7fbc41"
            ],
            [
             0.9,
             "#4d9221"
            ],
            [
             1,
             "#276419"
            ]
           ],
           "sequential": [
            [
             0,
             "#0d0887"
            ],
            [
             0.1111111111111111,
             "#46039f"
            ],
            [
             0.2222222222222222,
             "#7201a8"
            ],
            [
             0.3333333333333333,
             "#9c179e"
            ],
            [
             0.4444444444444444,
             "#bd3786"
            ],
            [
             0.5555555555555556,
             "#d8576b"
            ],
            [
             0.6666666666666666,
             "#ed7953"
            ],
            [
             0.7777777777777778,
             "#fb9f3a"
            ],
            [
             0.8888888888888888,
             "#fdca26"
            ],
            [
             1,
             "#f0f921"
            ]
           ],
           "sequentialminus": [
            [
             0,
             "#0d0887"
            ],
            [
             0.1111111111111111,
             "#46039f"
            ],
            [
             0.2222222222222222,
             "#7201a8"
            ],
            [
             0.3333333333333333,
             "#9c179e"
            ],
            [
             0.4444444444444444,
             "#bd3786"
            ],
            [
             0.5555555555555556,
             "#d8576b"
            ],
            [
             0.6666666666666666,
             "#ed7953"
            ],
            [
             0.7777777777777778,
             "#fb9f3a"
            ],
            [
             0.8888888888888888,
             "#fdca26"
            ],
            [
             1,
             "#f0f921"
            ]
           ]
          },
          "colorway": [
           "#636efa",
           "#EF553B",
           "#00cc96",
           "#ab63fa",
           "#FFA15A",
           "#19d3f3",
           "#FF6692",
           "#B6E880",
           "#FF97FF",
           "#FECB52"
          ],
          "font": {
           "color": "#2a3f5f"
          },
          "geo": {
           "bgcolor": "white",
           "lakecolor": "white",
           "landcolor": "#E5ECF6",
           "showlakes": true,
           "showland": true,
           "subunitcolor": "white"
          },
          "hoverlabel": {
           "align": "left"
          },
          "hovermode": "closest",
          "mapbox": {
           "style": "light"
          },
          "paper_bgcolor": "white",
          "plot_bgcolor": "#E5ECF6",
          "polar": {
           "angularaxis": {
            "gridcolor": "white",
            "linecolor": "white",
            "ticks": ""
           },
           "bgcolor": "#E5ECF6",
           "radialaxis": {
            "gridcolor": "white",
            "linecolor": "white",
            "ticks": ""
           }
          },
          "scene": {
           "xaxis": {
            "backgroundcolor": "#E5ECF6",
            "gridcolor": "white",
            "gridwidth": 2,
            "linecolor": "white",
            "showbackground": true,
            "ticks": "",
            "zerolinecolor": "white"
           },
           "yaxis": {
            "backgroundcolor": "#E5ECF6",
            "gridcolor": "white",
            "gridwidth": 2,
            "linecolor": "white",
            "showbackground": true,
            "ticks": "",
            "zerolinecolor": "white"
           },
           "zaxis": {
            "backgroundcolor": "#E5ECF6",
            "gridcolor": "white",
            "gridwidth": 2,
            "linecolor": "white",
            "showbackground": true,
            "ticks": "",
            "zerolinecolor": "white"
           }
          },
          "shapedefaults": {
           "line": {
            "color": "#2a3f5f"
           }
          },
          "ternary": {
           "aaxis": {
            "gridcolor": "white",
            "linecolor": "white",
            "ticks": ""
           },
           "baxis": {
            "gridcolor": "white",
            "linecolor": "white",
            "ticks": ""
           },
           "bgcolor": "#E5ECF6",
           "caxis": {
            "gridcolor": "white",
            "linecolor": "white",
            "ticks": ""
           }
          },
          "title": {
           "x": 0.05
          },
          "xaxis": {
           "automargin": true,
           "gridcolor": "white",
           "linecolor": "white",
           "ticks": "",
           "title": {
            "standoff": 15
           },
           "zerolinecolor": "white",
           "zerolinewidth": 2
          },
          "yaxis": {
           "automargin": true,
           "gridcolor": "white",
           "linecolor": "white",
           "ticks": "",
           "title": {
            "standoff": 15
           },
           "zerolinecolor": "white",
           "zerolinewidth": 2
          }
         }
        },
        "title": {
         "text": "Total Artist Ratings",
         "x": 0.5,
         "xanchor": "center",
         "y": 0.9,
         "yanchor": "top"
        },
        "xaxis": {
         "title": {
          "text": "Artist"
         }
        },
        "yaxis": {
         "title": {
          "text": "Rating Count"
         }
        }
       }
      }
     },
     "metadata": {},
     "output_type": "display_data"
    }
   ],
   "source": [
    "# Scatter Plot Creation\n",
    "\n",
    "# Defining a threshold \n",
    "rating_threshold = 1\n",
    "\n",
    "# Grouping Artist by the amount of ratings they have\n",
    "total_ratings = df.groupby(['Artist Name']).agg(Rating_count=('Rating', 'count')).reset_index()\n",
    "\n",
    "# Eliminating artist that fall below the threshold\n",
    "sorted_ratings = total_ratings[total_ratings['Rating_count'] > rating_threshold]\n",
    "\n",
    "# Creating custom hover text\n",
    "sorted_ratings['hover text'] = sorted_ratings.apply(\n",
    "    lambda row: f'Artist: {row['Artist Name']}<br>Rating Count: {row['Rating_count']}', axis=1\n",
    ")\n",
    "\n",
    "# Graphing the data\n",
    "fig = go.Figure(go.Scatter(\n",
    "    mode='markers',\n",
    "    x=sorted_ratings.index,\n",
    "    y=sorted_ratings['Rating_count'],\n",
    "    marker_color=sorted_ratings['Rating_count'],\n",
    "    marker_size=10,\n",
    "    text=sorted_ratings['hover text'],\n",
    "    hoverinfo='text'\n",
    "\n",
    "))\n",
    "\n",
    "# Updating the labels for readability\n",
    "fig.update_layout(\n",
    "    title={\n",
    "        'text': 'Total Artist Ratings',\n",
    "        'x': 0.5,\n",
    "        'xanchor': 'center',\n",
    "        'y': 0.9,\n",
    "        'yanchor': 'top'    \n",
    "    },\n",
    "    xaxis_title = 'Artist',\n",
    "    yaxis_title = 'Rating Count'\n",
    ")\n",
    "\n",
    "# Showing the graph\n",
    "fig.show()\n"
   ]
  },
  {
   "cell_type": "code",
   "execution_count": null,
   "metadata": {},
   "outputs": [
    {
     "data": {
      "application/vnd.plotly.v1+json": {
       "config": {
        "plotlyServerURL": "https://plot.ly"
       },
       "data": [
        {
         "hoverinfo": "text",
         "marker": {
          "color": [
           3.6,
           4.428571428571429,
           4.875,
           5.166666666666667,
           5.357142857142857,
           5.4,
           5.5,
           5.75,
           5.8,
           5.8,
           6,
           6,
           6,
           6,
           6.166666666666667,
           6.2,
           6.2,
           6.25,
           6.3,
           6.333333333333333,
           6.333333333333333,
           6.5,
           6.6,
           6.6,
           6.625,
           6.666666666666667,
           6.75,
           6.8,
           6.8,
           6.8,
           6.8,
           6.833333333333333,
           6.833333333333333,
           6.846153846153846,
           6.888888888888889,
           6.888888888888889,
           6.909090909090909,
           7,
           7,
           7.142857142857143,
           7.142857142857143,
           7.166666666666667,
           7.166666666666667,
           7.2,
           7.2,
           7.2,
           7.285714285714286,
           7.333333333333333,
           7.333333333333333,
           7.333333333333333,
           7.4,
           7.6,
           7.6,
           7.6,
           7.625,
           7.7,
           7.7,
           7.8,
           8,
           8,
           8,
           8.142857142857142,
           8.166666666666666,
           8.166666666666666,
           8.2,
           8.2,
           8.333333333333334,
           8.4,
           8.5,
           8.5,
           8.833333333333334,
           8.833333333333334,
           9
          ],
          "size": 12,
          "symbol": "circle"
         },
         "mode": "markers",
         "text": [
          "Artist: The 1975<br>Rating Mean: 3.6",
          "Artist: Arctic Monkeys<br>Rating Mean: 4.428571428571429",
          "Artist: The Black Keys<br>Rating Mean: 4.875",
          "Artist: Guns n' Roses<br>Rating Mean: 5.166666666666667",
          "Artist: Megadeth<br>Rating Mean: 5.357142857142857",
          "Artist: James Blake<br>Rating Mean: 5.4",
          "Artist: The Flaming Lips<br>Rating Mean: 5.5",
          "Artist: Vince Staples<br>Rating Mean: 5.75",
          "Artist: Protomartyr<br>Rating Mean: 5.8",
          "Artist: Bon Iver<br>Rating Mean: 5.8",
          "Artist: Titus Andronicus<br>Rating Mean: 6.0",
          "Artist: Metallica<br>Rating Mean: 6.0",
          "Artist: IDLES<br>Rating Mean: 6.0",
          "Artist: The Mars Volta<br>Rating Mean: 6.0",
          "Artist: The National<br>Rating Mean: 6.166666666666667",
          "Artist: The Strokes<br>Rating Mean: 6.2",
          "Artist: Vampire Weekend<br>Rating Mean: 6.2",
          "Artist: The Beatles<br>Rating Mean: 6.25",
          "Artist: Kanye West<br>Rating Mean: 6.3",
          "Artist: Interpol<br>Rating Mean: 6.333333333333333",
          "Artist: Car Seat Headrest<br>Rating Mean: 6.333333333333333",
          "Artist: The Rolling Stones<br>Rating Mean: 6.5",
          "Artist: Iceage<br>Rating Mean: 6.6",
          "Artist: Tyler, the Creator<br>Rating Mean: 6.6",
          "Artist: Mastodon<br>Rating Mean: 6.625",
          "Artist: Flying Lotus<br>Rating Mean: 6.666666666666667",
          "Artist: Queens of the Stone Age<br>Rating Mean: 6.75",
          "Artist: Injury Reserve<br>Rating Mean: 6.8",
          "Artist: Gojira<br>Rating Mean: 6.8",
          "Artist: Daft Punk<br>Rating Mean: 6.8",
          "Artist: Danny Brown<br>Rating Mean: 6.8",
          "Artist: Earl Sweatshirt<br>Rating Mean: 6.833333333333333",
          "Artist: Modest Mouse<br>Rating Mean: 6.833333333333333",
          "Artist: David Bowie<br>Rating Mean: 6.846153846153846",
          "Artist: Radiohead<br>Rating Mean: 6.888888888888889",
          "Artist: Animal Collective<br>Rating Mean: 6.888888888888889",
          "Artist: Pink Floyd<br>Rating Mean: 6.909090909090909",
          "Artist: Sun Ra<br>Rating Mean: 7.0",
          "Artist: The Cure<br>Rating Mean: 7.0",
          "Artist: Beastie Boys<br>Rating Mean: 7.142857142857143",
          "Artist: Nicolás Jaar<br>Rating Mean: 7.142857142857143",
          "Artist: Aesop Rock<br>Rating Mean: 7.166666666666667",
          "Artist: The Doors<br>Rating Mean: 7.166666666666667",
          "Artist: Nick Cave and The Bad Seeds<br>Rating Mean: 7.2",
          "Artist: The Dear Hunter<br>Rating Mean: 7.2",
          "Artist: Nine Inch Nails<br>Rating Mean: 7.2",
          "Artist: Kendrick Lamar<br>Rating Mean: 7.285714285714286",
          "Artist: Motörhead<br>Rating Mean: 7.333333333333333",
          "Artist: Death Grips<br>Rating Mean: 7.333333333333333",
          "Artist: The Fall<br>Rating Mean: 7.333333333333333",
          "Artist: Tool<br>Rating Mean: 7.4",
          "Artist: Sufjan Stevens<br>Rating Mean: 7.6",
          "Artist: Fiona Apple<br>Rating Mean: 7.6",
          "Artist: Björk<br>Rating Mean: 7.6",
          "Artist: Xiu Xiu<br>Rating Mean: 7.625",
          "Artist: Tom Waits<br>Rating Mean: 7.7",
          "Artist: Bob Dylan<br>Rating Mean: 7.7",
          "Artist: clipping.<br>Rating Mean: 7.8",
          "Artist: Swans<br>Rating Mean: 8.0",
          "Artist: Bruce Springsteen<br>Rating Mean: 8.0",
          "Artist: Black Sabbath<br>Rating Mean: 8.0",
          "Artist: Fugazi<br>Rating Mean: 8.142857142857142",
          "Artist: Converge<br>Rating Mean: 8.166666666666666",
          "Artist: Unwound<br>Rating Mean: 8.166666666666666",
          "Artist: The Replacements<br>Rating Mean: 8.2",
          "Artist: Dead Kennedys<br>Rating Mean: 8.2",
          "Artist: LCD Soundsystem<br>Rating Mean: 8.333333333333334",
          "Artist: Talking Heads<br>Rating Mean: 8.4",
          "Artist: King Crimson<br>Rating Mean: 8.5",
          "Artist: Miles Davis<br>Rating Mean: 8.5",
          "Artist: John Coltrane<br>Rating Mean: 8.833333333333334",
          "Artist: Autechre<br>Rating Mean: 8.833333333333334",
          "Artist: The Mothers of Invention<br>Rating Mean: 9.0"
         ],
         "type": "scatter",
         "x": [
          699,
          36,
          710,
          296,
          453,
          327,
          736,
          831,
          569,
          85,
          807,
          459,
          307,
          749,
          757,
          780,
          823,
          708,
          374,
          316,
          115,
          768,
          310,
          817,
          444,
          247,
          577,
          315,
          283,
          157,
          160,
          206,
          477,
          166,
          581,
          29,
          555,
          679,
          723,
          59,
          513,
          8,
          729,
          510,
          725,
          516,
          380,
          486,
          179,
          733,
          810,
          675,
          238,
          70,
          856,
          809,
          83,
          873,
          681,
          98,
          76,
          261,
          142,
          822,
          767,
          173,
          396,
          690,
          387,
          462,
          351,
          45,
          754
         ],
         "y": [
          3.6,
          4.428571428571429,
          4.875,
          5.166666666666667,
          5.357142857142857,
          5.4,
          5.5,
          5.75,
          5.8,
          5.8,
          6,
          6,
          6,
          6,
          6.166666666666667,
          6.2,
          6.2,
          6.25,
          6.3,
          6.333333333333333,
          6.333333333333333,
          6.5,
          6.6,
          6.6,
          6.625,
          6.666666666666667,
          6.75,
          6.8,
          6.8,
          6.8,
          6.8,
          6.833333333333333,
          6.833333333333333,
          6.846153846153846,
          6.888888888888889,
          6.888888888888889,
          6.909090909090909,
          7,
          7,
          7.142857142857143,
          7.142857142857143,
          7.166666666666667,
          7.166666666666667,
          7.2,
          7.2,
          7.2,
          7.285714285714286,
          7.333333333333333,
          7.333333333333333,
          7.333333333333333,
          7.4,
          7.6,
          7.6,
          7.6,
          7.625,
          7.7,
          7.7,
          7.8,
          8,
          8,
          8,
          8.142857142857142,
          8.166666666666666,
          8.166666666666666,
          8.2,
          8.2,
          8.333333333333334,
          8.4,
          8.5,
          8.5,
          8.833333333333334,
          8.833333333333334,
          9
         ]
        }
       ],
       "layout": {
        "template": {
         "data": {
          "bar": [
           {
            "error_x": {
             "color": "#2a3f5f"
            },
            "error_y": {
             "color": "#2a3f5f"
            },
            "marker": {
             "line": {
              "color": "#E5ECF6",
              "width": 0.5
             },
             "pattern": {
              "fillmode": "overlay",
              "size": 10,
              "solidity": 0.2
             }
            },
            "type": "bar"
           }
          ],
          "barpolar": [
           {
            "marker": {
             "line": {
              "color": "#E5ECF6",
              "width": 0.5
             },
             "pattern": {
              "fillmode": "overlay",
              "size": 10,
              "solidity": 0.2
             }
            },
            "type": "barpolar"
           }
          ],
          "carpet": [
           {
            "aaxis": {
             "endlinecolor": "#2a3f5f",
             "gridcolor": "white",
             "linecolor": "white",
             "minorgridcolor": "white",
             "startlinecolor": "#2a3f5f"
            },
            "baxis": {
             "endlinecolor": "#2a3f5f",
             "gridcolor": "white",
             "linecolor": "white",
             "minorgridcolor": "white",
             "startlinecolor": "#2a3f5f"
            },
            "type": "carpet"
           }
          ],
          "choropleth": [
           {
            "colorbar": {
             "outlinewidth": 0,
             "ticks": ""
            },
            "type": "choropleth"
           }
          ],
          "contour": [
           {
            "colorbar": {
             "outlinewidth": 0,
             "ticks": ""
            },
            "colorscale": [
             [
              0,
              "#0d0887"
             ],
             [
              0.1111111111111111,
              "#46039f"
             ],
             [
              0.2222222222222222,
              "#7201a8"
             ],
             [
              0.3333333333333333,
              "#9c179e"
             ],
             [
              0.4444444444444444,
              "#bd3786"
             ],
             [
              0.5555555555555556,
              "#d8576b"
             ],
             [
              0.6666666666666666,
              "#ed7953"
             ],
             [
              0.7777777777777778,
              "#fb9f3a"
             ],
             [
              0.8888888888888888,
              "#fdca26"
             ],
             [
              1,
              "#f0f921"
             ]
            ],
            "type": "contour"
           }
          ],
          "contourcarpet": [
           {
            "colorbar": {
             "outlinewidth": 0,
             "ticks": ""
            },
            "type": "contourcarpet"
           }
          ],
          "heatmap": [
           {
            "colorbar": {
             "outlinewidth": 0,
             "ticks": ""
            },
            "colorscale": [
             [
              0,
              "#0d0887"
             ],
             [
              0.1111111111111111,
              "#46039f"
             ],
             [
              0.2222222222222222,
              "#7201a8"
             ],
             [
              0.3333333333333333,
              "#9c179e"
             ],
             [
              0.4444444444444444,
              "#bd3786"
             ],
             [
              0.5555555555555556,
              "#d8576b"
             ],
             [
              0.6666666666666666,
              "#ed7953"
             ],
             [
              0.7777777777777778,
              "#fb9f3a"
             ],
             [
              0.8888888888888888,
              "#fdca26"
             ],
             [
              1,
              "#f0f921"
             ]
            ],
            "type": "heatmap"
           }
          ],
          "heatmapgl": [
           {
            "colorbar": {
             "outlinewidth": 0,
             "ticks": ""
            },
            "colorscale": [
             [
              0,
              "#0d0887"
             ],
             [
              0.1111111111111111,
              "#46039f"
             ],
             [
              0.2222222222222222,
              "#7201a8"
             ],
             [
              0.3333333333333333,
              "#9c179e"
             ],
             [
              0.4444444444444444,
              "#bd3786"
             ],
             [
              0.5555555555555556,
              "#d8576b"
             ],
             [
              0.6666666666666666,
              "#ed7953"
             ],
             [
              0.7777777777777778,
              "#fb9f3a"
             ],
             [
              0.8888888888888888,
              "#fdca26"
             ],
             [
              1,
              "#f0f921"
             ]
            ],
            "type": "heatmapgl"
           }
          ],
          "histogram": [
           {
            "marker": {
             "pattern": {
              "fillmode": "overlay",
              "size": 10,
              "solidity": 0.2
             }
            },
            "type": "histogram"
           }
          ],
          "histogram2d": [
           {
            "colorbar": {
             "outlinewidth": 0,
             "ticks": ""
            },
            "colorscale": [
             [
              0,
              "#0d0887"
             ],
             [
              0.1111111111111111,
              "#46039f"
             ],
             [
              0.2222222222222222,
              "#7201a8"
             ],
             [
              0.3333333333333333,
              "#9c179e"
             ],
             [
              0.4444444444444444,
              "#bd3786"
             ],
             [
              0.5555555555555556,
              "#d8576b"
             ],
             [
              0.6666666666666666,
              "#ed7953"
             ],
             [
              0.7777777777777778,
              "#fb9f3a"
             ],
             [
              0.8888888888888888,
              "#fdca26"
             ],
             [
              1,
              "#f0f921"
             ]
            ],
            "type": "histogram2d"
           }
          ],
          "histogram2dcontour": [
           {
            "colorbar": {
             "outlinewidth": 0,
             "ticks": ""
            },
            "colorscale": [
             [
              0,
              "#0d0887"
             ],
             [
              0.1111111111111111,
              "#46039f"
             ],
             [
              0.2222222222222222,
              "#7201a8"
             ],
             [
              0.3333333333333333,
              "#9c179e"
             ],
             [
              0.4444444444444444,
              "#bd3786"
             ],
             [
              0.5555555555555556,
              "#d8576b"
             ],
             [
              0.6666666666666666,
              "#ed7953"
             ],
             [
              0.7777777777777778,
              "#fb9f3a"
             ],
             [
              0.8888888888888888,
              "#fdca26"
             ],
             [
              1,
              "#f0f921"
             ]
            ],
            "type": "histogram2dcontour"
           }
          ],
          "mesh3d": [
           {
            "colorbar": {
             "outlinewidth": 0,
             "ticks": ""
            },
            "type": "mesh3d"
           }
          ],
          "parcoords": [
           {
            "line": {
             "colorbar": {
              "outlinewidth": 0,
              "ticks": ""
             }
            },
            "type": "parcoords"
           }
          ],
          "pie": [
           {
            "automargin": true,
            "type": "pie"
           }
          ],
          "scatter": [
           {
            "fillpattern": {
             "fillmode": "overlay",
             "size": 10,
             "solidity": 0.2
            },
            "type": "scatter"
           }
          ],
          "scatter3d": [
           {
            "line": {
             "colorbar": {
              "outlinewidth": 0,
              "ticks": ""
             }
            },
            "marker": {
             "colorbar": {
              "outlinewidth": 0,
              "ticks": ""
             }
            },
            "type": "scatter3d"
           }
          ],
          "scattercarpet": [
           {
            "marker": {
             "colorbar": {
              "outlinewidth": 0,
              "ticks": ""
             }
            },
            "type": "scattercarpet"
           }
          ],
          "scattergeo": [
           {
            "marker": {
             "colorbar": {
              "outlinewidth": 0,
              "ticks": ""
             }
            },
            "type": "scattergeo"
           }
          ],
          "scattergl": [
           {
            "marker": {
             "colorbar": {
              "outlinewidth": 0,
              "ticks": ""
             }
            },
            "type": "scattergl"
           }
          ],
          "scattermapbox": [
           {
            "marker": {
             "colorbar": {
              "outlinewidth": 0,
              "ticks": ""
             }
            },
            "type": "scattermapbox"
           }
          ],
          "scatterpolar": [
           {
            "marker": {
             "colorbar": {
              "outlinewidth": 0,
              "ticks": ""
             }
            },
            "type": "scatterpolar"
           }
          ],
          "scatterpolargl": [
           {
            "marker": {
             "colorbar": {
              "outlinewidth": 0,
              "ticks": ""
             }
            },
            "type": "scatterpolargl"
           }
          ],
          "scatterternary": [
           {
            "marker": {
             "colorbar": {
              "outlinewidth": 0,
              "ticks": ""
             }
            },
            "type": "scatterternary"
           }
          ],
          "surface": [
           {
            "colorbar": {
             "outlinewidth": 0,
             "ticks": ""
            },
            "colorscale": [
             [
              0,
              "#0d0887"
             ],
             [
              0.1111111111111111,
              "#46039f"
             ],
             [
              0.2222222222222222,
              "#7201a8"
             ],
             [
              0.3333333333333333,
              "#9c179e"
             ],
             [
              0.4444444444444444,
              "#bd3786"
             ],
             [
              0.5555555555555556,
              "#d8576b"
             ],
             [
              0.6666666666666666,
              "#ed7953"
             ],
             [
              0.7777777777777778,
              "#fb9f3a"
             ],
             [
              0.8888888888888888,
              "#fdca26"
             ],
             [
              1,
              "#f0f921"
             ]
            ],
            "type": "surface"
           }
          ],
          "table": [
           {
            "cells": {
             "fill": {
              "color": "#EBF0F8"
             },
             "line": {
              "color": "white"
             }
            },
            "header": {
             "fill": {
              "color": "#C8D4E3"
             },
             "line": {
              "color": "white"
             }
            },
            "type": "table"
           }
          ]
         },
         "layout": {
          "annotationdefaults": {
           "arrowcolor": "#2a3f5f",
           "arrowhead": 0,
           "arrowwidth": 1
          },
          "autotypenumbers": "strict",
          "coloraxis": {
           "colorbar": {
            "outlinewidth": 0,
            "ticks": ""
           }
          },
          "colorscale": {
           "diverging": [
            [
             0,
             "#8e0152"
            ],
            [
             0.1,
             "#c51b7d"
            ],
            [
             0.2,
             "#de77ae"
            ],
            [
             0.3,
             "#f1b6da"
            ],
            [
             0.4,
             "#fde0ef"
            ],
            [
             0.5,
             "#f7f7f7"
            ],
            [
             0.6,
             "#e6f5d0"
            ],
            [
             0.7,
             "#b8e186"
            ],
            [
             0.8,
             "#7fbc41"
            ],
            [
             0.9,
             "#4d9221"
            ],
            [
             1,
             "#276419"
            ]
           ],
           "sequential": [
            [
             0,
             "#0d0887"
            ],
            [
             0.1111111111111111,
             "#46039f"
            ],
            [
             0.2222222222222222,
             "#7201a8"
            ],
            [
             0.3333333333333333,
             "#9c179e"
            ],
            [
             0.4444444444444444,
             "#bd3786"
            ],
            [
             0.5555555555555556,
             "#d8576b"
            ],
            [
             0.6666666666666666,
             "#ed7953"
            ],
            [
             0.7777777777777778,
             "#fb9f3a"
            ],
            [
             0.8888888888888888,
             "#fdca26"
            ],
            [
             1,
             "#f0f921"
            ]
           ],
           "sequentialminus": [
            [
             0,
             "#0d0887"
            ],
            [
             0.1111111111111111,
             "#46039f"
            ],
            [
             0.2222222222222222,
             "#7201a8"
            ],
            [
             0.3333333333333333,
             "#9c179e"
            ],
            [
             0.4444444444444444,
             "#bd3786"
            ],
            [
             0.5555555555555556,
             "#d8576b"
            ],
            [
             0.6666666666666666,
             "#ed7953"
            ],
            [
             0.7777777777777778,
             "#fb9f3a"
            ],
            [
             0.8888888888888888,
             "#fdca26"
            ],
            [
             1,
             "#f0f921"
            ]
           ]
          },
          "colorway": [
           "#636efa",
           "#EF553B",
           "#00cc96",
           "#ab63fa",
           "#FFA15A",
           "#19d3f3",
           "#FF6692",
           "#B6E880",
           "#FF97FF",
           "#FECB52"
          ],
          "font": {
           "color": "#2a3f5f"
          },
          "geo": {
           "bgcolor": "white",
           "lakecolor": "white",
           "landcolor": "#E5ECF6",
           "showlakes": true,
           "showland": true,
           "subunitcolor": "white"
          },
          "hoverlabel": {
           "align": "left"
          },
          "hovermode": "closest",
          "mapbox": {
           "style": "light"
          },
          "paper_bgcolor": "white",
          "plot_bgcolor": "#E5ECF6",
          "polar": {
           "angularaxis": {
            "gridcolor": "white",
            "linecolor": "white",
            "ticks": ""
           },
           "bgcolor": "#E5ECF6",
           "radialaxis": {
            "gridcolor": "white",
            "linecolor": "white",
            "ticks": ""
           }
          },
          "scene": {
           "xaxis": {
            "backgroundcolor": "#E5ECF6",
            "gridcolor": "white",
            "gridwidth": 2,
            "linecolor": "white",
            "showbackground": true,
            "ticks": "",
            "zerolinecolor": "white"
           },
           "yaxis": {
            "backgroundcolor": "#E5ECF6",
            "gridcolor": "white",
            "gridwidth": 2,
            "linecolor": "white",
            "showbackground": true,
            "ticks": "",
            "zerolinecolor": "white"
           },
           "zaxis": {
            "backgroundcolor": "#E5ECF6",
            "gridcolor": "white",
            "gridwidth": 2,
            "linecolor": "white",
            "showbackground": true,
            "ticks": "",
            "zerolinecolor": "white"
           }
          },
          "shapedefaults": {
           "line": {
            "color": "#2a3f5f"
           }
          },
          "ternary": {
           "aaxis": {
            "gridcolor": "white",
            "linecolor": "white",
            "ticks": ""
           },
           "baxis": {
            "gridcolor": "white",
            "linecolor": "white",
            "ticks": ""
           },
           "bgcolor": "#E5ECF6",
           "caxis": {
            "gridcolor": "white",
            "linecolor": "white",
            "ticks": ""
           }
          },
          "title": {
           "x": 0.05
          },
          "xaxis": {
           "automargin": true,
           "gridcolor": "white",
           "linecolor": "white",
           "ticks": "",
           "title": {
            "standoff": 15
           },
           "zerolinecolor": "white",
           "zerolinewidth": 2
          },
          "yaxis": {
           "automargin": true,
           "gridcolor": "white",
           "linecolor": "white",
           "ticks": "",
           "title": {
            "standoff": 15
           },
           "zerolinecolor": "white",
           "zerolinewidth": 2
          }
         }
        },
        "title": {
         "text": "Artist Rating Mean (Sorted)",
         "x": 0.5,
         "xanchor": "center",
         "y": 0.9,
         "yanchor": "top"
        },
        "xaxis": {
         "title": {
          "text": "Artists"
         }
        },
        "yaxis": {
         "title": {
          "text": "Rating Mean"
         }
        }
       }
      }
     },
     "metadata": {},
     "output_type": "display_data"
    }
   ],
   "source": [
    "# Scatter Plot to show the Artist with the highest mean rating\n",
    "\n",
    "# Threshold based on the 5 album rule(Great artist at least have 5 good albums)\n",
    "rating_threshold = 5\n",
    "\n",
    "# Grouping Artist based on their mean rating and the total count of ratings\n",
    "artist_average = df.groupby(['Artist Name']).agg(\n",
    "    Rating_count=('Rating', 'count'),\n",
    "    Rating_mean=('Rating', 'mean')\n",
    ").reset_index()\n",
    "\n",
    "# Filtering based on rating threshold\n",
    "average_threshold = artist_average[artist_average['Rating_count'] >= rating_threshold]\n",
    "\n",
    "# Sorting by Rating_mean in descending order\n",
    "average_threshold_sorted = average_threshold.sort_values(by='Rating_mean', ascending=True)\n",
    "\n",
    "# Creating custom hover text\n",
    "average_threshold_sorted['hover_text'] = average_threshold_sorted.apply(\n",
    "    lambda row: f\"Artist: {row['Artist Name']}<br>Rating Mean: {row['Rating_mean']}\", axis=1\n",
    ")\n",
    "\n",
    "# Creating the scatter plot\n",
    "fig = go.Figure(go.Scatter(\n",
    "    mode=\"markers\",\n",
    "    x=average_threshold_sorted.index, \n",
    "    y=average_threshold_sorted['Rating_mean'],  \n",
    "    marker_symbol='circle',\n",
    "    marker_color=average_threshold_sorted['Rating_mean'],  \n",
    "    marker_size=12,\n",
    "    text=average_threshold_sorted['hover_text'], \n",
    "    hoverinfo='text'\n",
    "))\n",
    "\n",
    "# Updating layout for readability\n",
    "fig.update_layout(\n",
    "    title={\n",
    "        'text': 'Artist Rating Mean (Sorted)',\n",
    "        'x': 0.5,\n",
    "        'xanchor': 'center',\n",
    "        'y': 0.90,\n",
    "        'yanchor': 'top'    \n",
    "    },\n",
    "    xaxis_title='Artists',\n",
    "    yaxis_title='Rating Mean',\n",
    ")\n",
    "    \n",
    "# Showing the graph\n",
    "fig.show()\n"
   ]
  },
  {
   "cell_type": "code",
   "execution_count": null,
   "metadata": {},
   "outputs": [
    {
     "data": {
      "application/vnd.plotly.v1+json": {
       "config": {
        "plotlyServerURL": "https://plot.ly"
       },
       "data": [
        {
         "boxmean": "sd",
         "boxpoints": "all",
         "line": {
          "width": 2
         },
         "marker": {
          "size": 6
         },
         "name": "1950's",
         "type": "box",
         "y": [
          9,
          8,
          8,
          7,
          8,
          7,
          8,
          9,
          7,
          7,
          8,
          5,
          10,
          7,
          8,
          8,
          9,
          8,
          8,
          7,
          8,
          8,
          7,
          10,
          7
         ]
        },
        {
         "boxmean": "sd",
         "boxpoints": "all",
         "line": {
          "width": 2
         },
         "marker": {
          "size": 6
         },
         "name": "1960's",
         "type": "box",
         "y": [
          10,
          8,
          9,
          8,
          8,
          10,
          6,
          7,
          8,
          9,
          8,
          8,
          6,
          7,
          7,
          10,
          9,
          5,
          10,
          7,
          9,
          9,
          10,
          8,
          8,
          7,
          10,
          8,
          5,
          7,
          8,
          4,
          5,
          8,
          5,
          10,
          8,
          8,
          5,
          8,
          7,
          9,
          10,
          9,
          9,
          8,
          9,
          7,
          10,
          9,
          7,
          8,
          8,
          8,
          10,
          8,
          9,
          8,
          8,
          8,
          7,
          8,
          9,
          8,
          9,
          7,
          6,
          8,
          8,
          9,
          10,
          7,
          8,
          10,
          8,
          6,
          5,
          9,
          5,
          6,
          7,
          7,
          9,
          8,
          10,
          9,
          10,
          8,
          5,
          10,
          8,
          5,
          5,
          10,
          8,
          4,
          9,
          8,
          7,
          10,
          8,
          9,
          10,
          10,
          7,
          6,
          8,
          9,
          9,
          9,
          9,
          3,
          8,
          9,
          6,
          4,
          9,
          7,
          8,
          6
         ]
        },
        {
         "boxmean": "sd",
         "boxpoints": "all",
         "line": {
          "width": 2
         },
         "marker": {
          "size": 6
         },
         "name": "1970's",
         "type": "box",
         "y": [
          6,
          5,
          8,
          7,
          7,
          7,
          6,
          8,
          10,
          7,
          6,
          7,
          9,
          10,
          7,
          10,
          6,
          9,
          5,
          9,
          6,
          9,
          8,
          7,
          4,
          4,
          10,
          9,
          9,
          6,
          7,
          8,
          8,
          8,
          6,
          4,
          7,
          8,
          9,
          6,
          10,
          7,
          7,
          9,
          7,
          6,
          9,
          10,
          9,
          10,
          6,
          8,
          10,
          10,
          9,
          10,
          5,
          8,
          8,
          8,
          8,
          8,
          8,
          6,
          5,
          7,
          8,
          9,
          9,
          9,
          6,
          10,
          9,
          10,
          6,
          6,
          9,
          9,
          7,
          8,
          5,
          6,
          8,
          4,
          7,
          6,
          6,
          7,
          7,
          8,
          8,
          7,
          2,
          6,
          9,
          7,
          9,
          6,
          10,
          8,
          8,
          9,
          6,
          6,
          6,
          7,
          7,
          10,
          9,
          6,
          10,
          9,
          6,
          9,
          10,
          8,
          7,
          6,
          9,
          7,
          7,
          6,
          10,
          8,
          7,
          5,
          9,
          6,
          7,
          8,
          6,
          8,
          4,
          8,
          5,
          8,
          9,
          8,
          9,
          8,
          9,
          9,
          10,
          7,
          9,
          9,
          8,
          5,
          7,
          7,
          9,
          8,
          5,
          7,
          7,
          8,
          10,
          9,
          8,
          8,
          3,
          7,
          8,
          7,
          5,
          10,
          7,
          9,
          8,
          6,
          9,
          6,
          8,
          8,
          7,
          6,
          7,
          6,
          9,
          6,
          8,
          8,
          8,
          8,
          6,
          8,
          10,
          8,
          6,
          8,
          8,
          7,
          10,
          6,
          8,
          7,
          10,
          6,
          6,
          9,
          10,
          7,
          9,
          8,
          8,
          7,
          6,
          8,
          10,
          4,
          9,
          7,
          5,
          8,
          8,
          8,
          8
         ]
        },
        {
         "boxmean": "sd",
         "boxpoints": "all",
         "line": {
          "width": 2
         },
         "marker": {
          "size": 6
         },
         "name": "1980's",
         "type": "box",
         "y": [
          7,
          9,
          7,
          8,
          7,
          8,
          6,
          6,
          9,
          6,
          6,
          8,
          6,
          7,
          9,
          9,
          7,
          6,
          7,
          7,
          6,
          9,
          8,
          4,
          6,
          8,
          7,
          8,
          6,
          9,
          8,
          4,
          9,
          10,
          7,
          4,
          8,
          9,
          9,
          7,
          8,
          5,
          8,
          8,
          7,
          7,
          7,
          9,
          6,
          9,
          9,
          8,
          10,
          9,
          8,
          7,
          9,
          10,
          7,
          10,
          7,
          9,
          7,
          6,
          9,
          9,
          9,
          7,
          8,
          7,
          8,
          7,
          8,
          6,
          6,
          10,
          7,
          8,
          7,
          8,
          8,
          7,
          7,
          10,
          5,
          8,
          9,
          9,
          9,
          7,
          7,
          6,
          9,
          5,
          10,
          7,
          7,
          9,
          7,
          6,
          10,
          7,
          8,
          7,
          10,
          6,
          7,
          8,
          8,
          9,
          9,
          4,
          6,
          7,
          4,
          8,
          2,
          6,
          10,
          10,
          9,
          10,
          8,
          6,
          9,
          8,
          9,
          8,
          8,
          7,
          8,
          10,
          10,
          10,
          9,
          9,
          7,
          9,
          8,
          6,
          6,
          8,
          8,
          8,
          6,
          7,
          8,
          9,
          8,
          7,
          6,
          6,
          9,
          8,
          6,
          5,
          8,
          4,
          7,
          7,
          7,
          9,
          6,
          7,
          7,
          9,
          6,
          8,
          8,
          9,
          8,
          4,
          8,
          6,
          8,
          9,
          7,
          10,
          10,
          9,
          9,
          5,
          7,
          5,
          8,
          8,
          6,
          9,
          8,
          8,
          9,
          8,
          10,
          7,
          5,
          8,
          9,
          5,
          5,
          9,
          6
         ]
        },
        {
         "boxmean": "sd",
         "boxpoints": "all",
         "line": {
          "width": 2
         },
         "marker": {
          "size": 6
         },
         "name": "1990's",
         "type": "box",
         "y": [
          8,
          7,
          8,
          8,
          6,
          7,
          8,
          5,
          5,
          10,
          7,
          8,
          8,
          4,
          8,
          7,
          7,
          7,
          7,
          6,
          10,
          8,
          6,
          9,
          5,
          9,
          3,
          2,
          8,
          10,
          6,
          8,
          2,
          7,
          8,
          9,
          6,
          8,
          6,
          7,
          5,
          10,
          9,
          8,
          5,
          7,
          8,
          9,
          7,
          8,
          10,
          6,
          8,
          9,
          7,
          6,
          5,
          7,
          9,
          8,
          7,
          9,
          7,
          9,
          6,
          9,
          7,
          4,
          8,
          7,
          5,
          7,
          8,
          8,
          7,
          7,
          9,
          10,
          8,
          6,
          8,
          6,
          9,
          10,
          7,
          8,
          8,
          7,
          7,
          7,
          10,
          8,
          5,
          9,
          8,
          8,
          8,
          7,
          9,
          7,
          9,
          7,
          9,
          10,
          8,
          8,
          9,
          4,
          8,
          8,
          8,
          10,
          9,
          7,
          4,
          8,
          6,
          8,
          8,
          9,
          10,
          7,
          4,
          7,
          9,
          7,
          10,
          10,
          7,
          8,
          7,
          9,
          8,
          6,
          9,
          5,
          9,
          7,
          6,
          7,
          7,
          8,
          9,
          8,
          10,
          8,
          4,
          7,
          10,
          7,
          5,
          7,
          7,
          6,
          7,
          9,
          7,
          9,
          9,
          7,
          1,
          8,
          7,
          8,
          8,
          6,
          9,
          7,
          6,
          4,
          8,
          9,
          10,
          9,
          8,
          8,
          9,
          10,
          5,
          10,
          8,
          7,
          8,
          7,
          9,
          8,
          8,
          9,
          9,
          9,
          8,
          6,
          7,
          7,
          8,
          7,
          5,
          8,
          8,
          10,
          7,
          5,
          8,
          5,
          6,
          8,
          6,
          6,
          10,
          7,
          8,
          9,
          7,
          10,
          8,
          7,
          7,
          7,
          8,
          8,
          4,
          4,
          8,
          8,
          6,
          8,
          6,
          8,
          7,
          7,
          8
         ]
        },
        {
         "boxmean": "sd",
         "boxpoints": "all",
         "line": {
          "width": 2
         },
         "marker": {
          "size": 6
         },
         "name": "2000's",
         "type": "box",
         "y": [
          5,
          9,
          8,
          6,
          5,
          6,
          4,
          6,
          5,
          5,
          5,
          10,
          7,
          8,
          7,
          8,
          7,
          9,
          5,
          7,
          7,
          8,
          6,
          5,
          9,
          5,
          8,
          6,
          4,
          6,
          8,
          6,
          8,
          9,
          8,
          7,
          8,
          8,
          5,
          6,
          9,
          7,
          7,
          8,
          6,
          4,
          7,
          7,
          8,
          8,
          7,
          4,
          8,
          9,
          7,
          8,
          6,
          5,
          7,
          9,
          8,
          5,
          5,
          8,
          6,
          5,
          8,
          8,
          6,
          6,
          4,
          5,
          9,
          10,
          8,
          9,
          6,
          7,
          7,
          7,
          7,
          5,
          6,
          7,
          6,
          6,
          8,
          7,
          6,
          8,
          7,
          5,
          8,
          8,
          8,
          9,
          8,
          7,
          6,
          5,
          5,
          6,
          7,
          7,
          9,
          6,
          5,
          8,
          5,
          7,
          8,
          7,
          7,
          10,
          9,
          8,
          8,
          6,
          5,
          7,
          7,
          9,
          8,
          6,
          6,
          4,
          9,
          7,
          6,
          8,
          4,
          5,
          5,
          9,
          6,
          9,
          7,
          7,
          8,
          5,
          7,
          10,
          9,
          6,
          9,
          8,
          9,
          10,
          9,
          7,
          9,
          10,
          7,
          7,
          6,
          5,
          10,
          8,
          8,
          7,
          7,
          9,
          8,
          6,
          7,
          6,
          4,
          8,
          2,
          6,
          7,
          7,
          10,
          5,
          5,
          7,
          4,
          7,
          8,
          8,
          8,
          7,
          9,
          7,
          9,
          6,
          7,
          7,
          7,
          7,
          6,
          7,
          6,
          9,
          6,
          8,
          9,
          10,
          8,
          1,
          8,
          9,
          9,
          5,
          7,
          5,
          7,
          7,
          9,
          5,
          8,
          9,
          10,
          10,
          9,
          5,
          7,
          7,
          7,
          7,
          7,
          8,
          10,
          7,
          6,
          8,
          6,
          6,
          6,
          8,
          6,
          8,
          6,
          7,
          1,
          9,
          8,
          8,
          6,
          10,
          9,
          5,
          9,
          9,
          5,
          7,
          6,
          9,
          8,
          6,
          7,
          5,
          6,
          5,
          6,
          6,
          8,
          6,
          4,
          10,
          6,
          8,
          5,
          8,
          8,
          5,
          8,
          7,
          9,
          8,
          6,
          8,
          5,
          5,
          6,
          8,
          7,
          7,
          6,
          6,
          7,
          6,
          6
         ]
        },
        {
         "boxmean": "sd",
         "boxpoints": "all",
         "line": {
          "width": 2
         },
         "marker": {
          "size": 6
         },
         "name": "2010's",
         "type": "box",
         "y": [
          3,
          6,
          8,
          6,
          6,
          7,
          5,
          5,
          8,
          7,
          5,
          7,
          5,
          7,
          6,
          7,
          6,
          6,
          8,
          5,
          8,
          7,
          8,
          7,
          7,
          8,
          7,
          8,
          7,
          5,
          8,
          6,
          8,
          8,
          6,
          9,
          8,
          8,
          8,
          9,
          8,
          7,
          5,
          3,
          8,
          5,
          8,
          5,
          7,
          8,
          6,
          6,
          8,
          6,
          5,
          6,
          6,
          7,
          5,
          6,
          9,
          6,
          8,
          7,
          8,
          8,
          7,
          8,
          8,
          5,
          5,
          9,
          3,
          7,
          5,
          8,
          8,
          8,
          5,
          6,
          7,
          8,
          4,
          7,
          6,
          4,
          7,
          8,
          5,
          7,
          5,
          9,
          4,
          8,
          8,
          7,
          8,
          6,
          5,
          6,
          8,
          4,
          8,
          8,
          4,
          7,
          8,
          7,
          7,
          5,
          9,
          7,
          6,
          8,
          7,
          4,
          8,
          8,
          7,
          6,
          5,
          7,
          8,
          5,
          6,
          6,
          6,
          8,
          3,
          6,
          7,
          7,
          6,
          8,
          8,
          6,
          9,
          7,
          4,
          6,
          7,
          7,
          7,
          6,
          4,
          6,
          5,
          7,
          5,
          7,
          5,
          6,
          6,
          7,
          6,
          4,
          5,
          7,
          5,
          7,
          7,
          7,
          5,
          8,
          3,
          6,
          4,
          7,
          8,
          6,
          7,
          7,
          6,
          8,
          6,
          4,
          7,
          6,
          4,
          5,
          8,
          7,
          4,
          7,
          6,
          8,
          8,
          8,
          6,
          6,
          5,
          8,
          8,
          4,
          7,
          8,
          7,
          6,
          8,
          7,
          7,
          6,
          6,
          8,
          5,
          7,
          6,
          6,
          4,
          8,
          4,
          6,
          7,
          4,
          4,
          7,
          6,
          6,
          4,
          7,
          6,
          5,
          8,
          8,
          7,
          3,
          4,
          4,
          7,
          7,
          6,
          4,
          8,
          6,
          4,
          4,
          6,
          6,
          5,
          6,
          9,
          6,
          7,
          5,
          6,
          5,
          7,
          5,
          5,
          5,
          5,
          4,
          7,
          8,
          7,
          7,
          4,
          7,
          8,
          6,
          5,
          5,
          9,
          6,
          5,
          5,
          4,
          8,
          5,
          8,
          6,
          7,
          5,
          6,
          7,
          8,
          6,
          4,
          7,
          4,
          5,
          9,
          5,
          4,
          7,
          7,
          6,
          7,
          8,
          6,
          6,
          5,
          8,
          8,
          3,
          4,
          6,
          8,
          8,
          6,
          7,
          7,
          6,
          5,
          8,
          6,
          7,
          7,
          7,
          7,
          6,
          6,
          8,
          6,
          8,
          4,
          8,
          2,
          2,
          5,
          8,
          8,
          4,
          5,
          4,
          6,
          3,
          6,
          6,
          8,
          8,
          7,
          7,
          6,
          6,
          7,
          7,
          9,
          7,
          7,
          7,
          5,
          7,
          7,
          8,
          3,
          4,
          6,
          6,
          8,
          7,
          8,
          7,
          5,
          1,
          8,
          7,
          7,
          7,
          8,
          6,
          4,
          7,
          5,
          4,
          7,
          6,
          5,
          2,
          5,
          7,
          5,
          7,
          6,
          6,
          7,
          9,
          6,
          5,
          4,
          4,
          7,
          6,
          3,
          4,
          7,
          6,
          7,
          9,
          5,
          5,
          9,
          7,
          6,
          5,
          7,
          9,
          5,
          10,
          9,
          6,
          9,
          5,
          5,
          5,
          8,
          7,
          7,
          8,
          9,
          5,
          6,
          5,
          8,
          8,
          8,
          9,
          6,
          6,
          10,
          6,
          8,
          10,
          8,
          4,
          7,
          5,
          4,
          3,
          8,
          9,
          6,
          6,
          8,
          5,
          8,
          8,
          6,
          6,
          7,
          6,
          8,
          6,
          4,
          6,
          4,
          7,
          7,
          4,
          5,
          5,
          8,
          8,
          5,
          4,
          6,
          7,
          5,
          7,
          6,
          7,
          7,
          3,
          8,
          5,
          8,
          3,
          8,
          5,
          6,
          7,
          8,
          6,
          6,
          9,
          8,
          5,
          9,
          7,
          5,
          5,
          7,
          8,
          6,
          5,
          6,
          5,
          5,
          8,
          5,
          9,
          7,
          4,
          6
         ]
        },
        {
         "boxmean": "sd",
         "boxpoints": "all",
         "line": {
          "width": 2
         },
         "marker": {
          "size": 6
         },
         "name": "2020's",
         "type": "box",
         "y": [
          4,
          4,
          7,
          5,
          8,
          6,
          4,
          7,
          6,
          6,
          6,
          7,
          8,
          5,
          8,
          8,
          3,
          9,
          7,
          5,
          6,
          7,
          7,
          6,
          8,
          8,
          7,
          6,
          5,
          3,
          5,
          6,
          7,
          8,
          4,
          6,
          7,
          8,
          9,
          8,
          7,
          7,
          8,
          5,
          5,
          7,
          8,
          9,
          9,
          6,
          3,
          7,
          6,
          5,
          8,
          6,
          7,
          7,
          8,
          8,
          7,
          5,
          8,
          8,
          8,
          6,
          4,
          6,
          7,
          5,
          8,
          8,
          6,
          6,
          3,
          8,
          4,
          6,
          7,
          8,
          7,
          4,
          6,
          6,
          8,
          7,
          6,
          8,
          5,
          8,
          4,
          8,
          5,
          7,
          4,
          4,
          9,
          6,
          7,
          8,
          4,
          4,
          7,
          6,
          5,
          5,
          7,
          2,
          7,
          7,
          5,
          5,
          5,
          7,
          7,
          7,
          6,
          5,
          6,
          4,
          6,
          9,
          7,
          8,
          5,
          6,
          6,
          7,
          6,
          7,
          8,
          5,
          6,
          6,
          6,
          6,
          7,
          5,
          6,
          8,
          4,
          6,
          7,
          7,
          3,
          7,
          5,
          6,
          7,
          4,
          8,
          7,
          7,
          5,
          4,
          5,
          8,
          5,
          8,
          6,
          5,
          4,
          6,
          8,
          6,
          8,
          7,
          8,
          6,
          5,
          6,
          7,
          7,
          6,
          9,
          7,
          5,
          7,
          7,
          7,
          7,
          6,
          8,
          9,
          7
         ]
        }
       ],
       "layout": {
        "template": {
         "data": {
          "bar": [
           {
            "error_x": {
             "color": "#2a3f5f"
            },
            "error_y": {
             "color": "#2a3f5f"
            },
            "marker": {
             "line": {
              "color": "#E5ECF6",
              "width": 0.5
             },
             "pattern": {
              "fillmode": "overlay",
              "size": 10,
              "solidity": 0.2
             }
            },
            "type": "bar"
           }
          ],
          "barpolar": [
           {
            "marker": {
             "line": {
              "color": "#E5ECF6",
              "width": 0.5
             },
             "pattern": {
              "fillmode": "overlay",
              "size": 10,
              "solidity": 0.2
             }
            },
            "type": "barpolar"
           }
          ],
          "carpet": [
           {
            "aaxis": {
             "endlinecolor": "#2a3f5f",
             "gridcolor": "white",
             "linecolor": "white",
             "minorgridcolor": "white",
             "startlinecolor": "#2a3f5f"
            },
            "baxis": {
             "endlinecolor": "#2a3f5f",
             "gridcolor": "white",
             "linecolor": "white",
             "minorgridcolor": "white",
             "startlinecolor": "#2a3f5f"
            },
            "type": "carpet"
           }
          ],
          "choropleth": [
           {
            "colorbar": {
             "outlinewidth": 0,
             "ticks": ""
            },
            "type": "choropleth"
           }
          ],
          "contour": [
           {
            "colorbar": {
             "outlinewidth": 0,
             "ticks": ""
            },
            "colorscale": [
             [
              0,
              "#0d0887"
             ],
             [
              0.1111111111111111,
              "#46039f"
             ],
             [
              0.2222222222222222,
              "#7201a8"
             ],
             [
              0.3333333333333333,
              "#9c179e"
             ],
             [
              0.4444444444444444,
              "#bd3786"
             ],
             [
              0.5555555555555556,
              "#d8576b"
             ],
             [
              0.6666666666666666,
              "#ed7953"
             ],
             [
              0.7777777777777778,
              "#fb9f3a"
             ],
             [
              0.8888888888888888,
              "#fdca26"
             ],
             [
              1,
              "#f0f921"
             ]
            ],
            "type": "contour"
           }
          ],
          "contourcarpet": [
           {
            "colorbar": {
             "outlinewidth": 0,
             "ticks": ""
            },
            "type": "contourcarpet"
           }
          ],
          "heatmap": [
           {
            "colorbar": {
             "outlinewidth": 0,
             "ticks": ""
            },
            "colorscale": [
             [
              0,
              "#0d0887"
             ],
             [
              0.1111111111111111,
              "#46039f"
             ],
             [
              0.2222222222222222,
              "#7201a8"
             ],
             [
              0.3333333333333333,
              "#9c179e"
             ],
             [
              0.4444444444444444,
              "#bd3786"
             ],
             [
              0.5555555555555556,
              "#d8576b"
             ],
             [
              0.6666666666666666,
              "#ed7953"
             ],
             [
              0.7777777777777778,
              "#fb9f3a"
             ],
             [
              0.8888888888888888,
              "#fdca26"
             ],
             [
              1,
              "#f0f921"
             ]
            ],
            "type": "heatmap"
           }
          ],
          "heatmapgl": [
           {
            "colorbar": {
             "outlinewidth": 0,
             "ticks": ""
            },
            "colorscale": [
             [
              0,
              "#0d0887"
             ],
             [
              0.1111111111111111,
              "#46039f"
             ],
             [
              0.2222222222222222,
              "#7201a8"
             ],
             [
              0.3333333333333333,
              "#9c179e"
             ],
             [
              0.4444444444444444,
              "#bd3786"
             ],
             [
              0.5555555555555556,
              "#d8576b"
             ],
             [
              0.6666666666666666,
              "#ed7953"
             ],
             [
              0.7777777777777778,
              "#fb9f3a"
             ],
             [
              0.8888888888888888,
              "#fdca26"
             ],
             [
              1,
              "#f0f921"
             ]
            ],
            "type": "heatmapgl"
           }
          ],
          "histogram": [
           {
            "marker": {
             "pattern": {
              "fillmode": "overlay",
              "size": 10,
              "solidity": 0.2
             }
            },
            "type": "histogram"
           }
          ],
          "histogram2d": [
           {
            "colorbar": {
             "outlinewidth": 0,
             "ticks": ""
            },
            "colorscale": [
             [
              0,
              "#0d0887"
             ],
             [
              0.1111111111111111,
              "#46039f"
             ],
             [
              0.2222222222222222,
              "#7201a8"
             ],
             [
              0.3333333333333333,
              "#9c179e"
             ],
             [
              0.4444444444444444,
              "#bd3786"
             ],
             [
              0.5555555555555556,
              "#d8576b"
             ],
             [
              0.6666666666666666,
              "#ed7953"
             ],
             [
              0.7777777777777778,
              "#fb9f3a"
             ],
             [
              0.8888888888888888,
              "#fdca26"
             ],
             [
              1,
              "#f0f921"
             ]
            ],
            "type": "histogram2d"
           }
          ],
          "histogram2dcontour": [
           {
            "colorbar": {
             "outlinewidth": 0,
             "ticks": ""
            },
            "colorscale": [
             [
              0,
              "#0d0887"
             ],
             [
              0.1111111111111111,
              "#46039f"
             ],
             [
              0.2222222222222222,
              "#7201a8"
             ],
             [
              0.3333333333333333,
              "#9c179e"
             ],
             [
              0.4444444444444444,
              "#bd3786"
             ],
             [
              0.5555555555555556,
              "#d8576b"
             ],
             [
              0.6666666666666666,
              "#ed7953"
             ],
             [
              0.7777777777777778,
              "#fb9f3a"
             ],
             [
              0.8888888888888888,
              "#fdca26"
             ],
             [
              1,
              "#f0f921"
             ]
            ],
            "type": "histogram2dcontour"
           }
          ],
          "mesh3d": [
           {
            "colorbar": {
             "outlinewidth": 0,
             "ticks": ""
            },
            "type": "mesh3d"
           }
          ],
          "parcoords": [
           {
            "line": {
             "colorbar": {
              "outlinewidth": 0,
              "ticks": ""
             }
            },
            "type": "parcoords"
           }
          ],
          "pie": [
           {
            "automargin": true,
            "type": "pie"
           }
          ],
          "scatter": [
           {
            "fillpattern": {
             "fillmode": "overlay",
             "size": 10,
             "solidity": 0.2
            },
            "type": "scatter"
           }
          ],
          "scatter3d": [
           {
            "line": {
             "colorbar": {
              "outlinewidth": 0,
              "ticks": ""
             }
            },
            "marker": {
             "colorbar": {
              "outlinewidth": 0,
              "ticks": ""
             }
            },
            "type": "scatter3d"
           }
          ],
          "scattercarpet": [
           {
            "marker": {
             "colorbar": {
              "outlinewidth": 0,
              "ticks": ""
             }
            },
            "type": "scattercarpet"
           }
          ],
          "scattergeo": [
           {
            "marker": {
             "colorbar": {
              "outlinewidth": 0,
              "ticks": ""
             }
            },
            "type": "scattergeo"
           }
          ],
          "scattergl": [
           {
            "marker": {
             "colorbar": {
              "outlinewidth": 0,
              "ticks": ""
             }
            },
            "type": "scattergl"
           }
          ],
          "scattermapbox": [
           {
            "marker": {
             "colorbar": {
              "outlinewidth": 0,
              "ticks": ""
             }
            },
            "type": "scattermapbox"
           }
          ],
          "scatterpolar": [
           {
            "marker": {
             "colorbar": {
              "outlinewidth": 0,
              "ticks": ""
             }
            },
            "type": "scatterpolar"
           }
          ],
          "scatterpolargl": [
           {
            "marker": {
             "colorbar": {
              "outlinewidth": 0,
              "ticks": ""
             }
            },
            "type": "scatterpolargl"
           }
          ],
          "scatterternary": [
           {
            "marker": {
             "colorbar": {
              "outlinewidth": 0,
              "ticks": ""
             }
            },
            "type": "scatterternary"
           }
          ],
          "surface": [
           {
            "colorbar": {
             "outlinewidth": 0,
             "ticks": ""
            },
            "colorscale": [
             [
              0,
              "#0d0887"
             ],
             [
              0.1111111111111111,
              "#46039f"
             ],
             [
              0.2222222222222222,
              "#7201a8"
             ],
             [
              0.3333333333333333,
              "#9c179e"
             ],
             [
              0.4444444444444444,
              "#bd3786"
             ],
             [
              0.5555555555555556,
              "#d8576b"
             ],
             [
              0.6666666666666666,
              "#ed7953"
             ],
             [
              0.7777777777777778,
              "#fb9f3a"
             ],
             [
              0.8888888888888888,
              "#fdca26"
             ],
             [
              1,
              "#f0f921"
             ]
            ],
            "type": "surface"
           }
          ],
          "table": [
           {
            "cells": {
             "fill": {
              "color": "#EBF0F8"
             },
             "line": {
              "color": "white"
             }
            },
            "header": {
             "fill": {
              "color": "#C8D4E3"
             },
             "line": {
              "color": "white"
             }
            },
            "type": "table"
           }
          ]
         },
         "layout": {
          "annotationdefaults": {
           "arrowcolor": "#2a3f5f",
           "arrowhead": 0,
           "arrowwidth": 1
          },
          "autotypenumbers": "strict",
          "coloraxis": {
           "colorbar": {
            "outlinewidth": 0,
            "ticks": ""
           }
          },
          "colorscale": {
           "diverging": [
            [
             0,
             "#8e0152"
            ],
            [
             0.1,
             "#c51b7d"
            ],
            [
             0.2,
             "#de77ae"
            ],
            [
             0.3,
             "#f1b6da"
            ],
            [
             0.4,
             "#fde0ef"
            ],
            [
             0.5,
             "#f7f7f7"
            ],
            [
             0.6,
             "#e6f5d0"
            ],
            [
             0.7,
             "#b8e186"
            ],
            [
             0.8,
             "#7fbc41"
            ],
            [
             0.9,
             "#4d9221"
            ],
            [
             1,
             "#276419"
            ]
           ],
           "sequential": [
            [
             0,
             "#0d0887"
            ],
            [
             0.1111111111111111,
             "#46039f"
            ],
            [
             0.2222222222222222,
             "#7201a8"
            ],
            [
             0.3333333333333333,
             "#9c179e"
            ],
            [
             0.4444444444444444,
             "#bd3786"
            ],
            [
             0.5555555555555556,
             "#d8576b"
            ],
            [
             0.6666666666666666,
             "#ed7953"
            ],
            [
             0.7777777777777778,
             "#fb9f3a"
            ],
            [
             0.8888888888888888,
             "#fdca26"
            ],
            [
             1,
             "#f0f921"
            ]
           ],
           "sequentialminus": [
            [
             0,
             "#0d0887"
            ],
            [
             0.1111111111111111,
             "#46039f"
            ],
            [
             0.2222222222222222,
             "#7201a8"
            ],
            [
             0.3333333333333333,
             "#9c179e"
            ],
            [
             0.4444444444444444,
             "#bd3786"
            ],
            [
             0.5555555555555556,
             "#d8576b"
            ],
            [
             0.6666666666666666,
             "#ed7953"
            ],
            [
             0.7777777777777778,
             "#fb9f3a"
            ],
            [
             0.8888888888888888,
             "#fdca26"
            ],
            [
             1,
             "#f0f921"
            ]
           ]
          },
          "colorway": [
           "#636efa",
           "#EF553B",
           "#00cc96",
           "#ab63fa",
           "#FFA15A",
           "#19d3f3",
           "#FF6692",
           "#B6E880",
           "#FF97FF",
           "#FECB52"
          ],
          "font": {
           "color": "#2a3f5f"
          },
          "geo": {
           "bgcolor": "white",
           "lakecolor": "white",
           "landcolor": "#E5ECF6",
           "showlakes": true,
           "showland": true,
           "subunitcolor": "white"
          },
          "hoverlabel": {
           "align": "left"
          },
          "hovermode": "closest",
          "mapbox": {
           "style": "light"
          },
          "paper_bgcolor": "white",
          "plot_bgcolor": "#E5ECF6",
          "polar": {
           "angularaxis": {
            "gridcolor": "white",
            "linecolor": "white",
            "ticks": ""
           },
           "bgcolor": "#E5ECF6",
           "radialaxis": {
            "gridcolor": "white",
            "linecolor": "white",
            "ticks": ""
           }
          },
          "scene": {
           "xaxis": {
            "backgroundcolor": "#E5ECF6",
            "gridcolor": "white",
            "gridwidth": 2,
            "linecolor": "white",
            "showbackground": true,
            "ticks": "",
            "zerolinecolor": "white"
           },
           "yaxis": {
            "backgroundcolor": "#E5ECF6",
            "gridcolor": "white",
            "gridwidth": 2,
            "linecolor": "white",
            "showbackground": true,
            "ticks": "",
            "zerolinecolor": "white"
           },
           "zaxis": {
            "backgroundcolor": "#E5ECF6",
            "gridcolor": "white",
            "gridwidth": 2,
            "linecolor": "white",
            "showbackground": true,
            "ticks": "",
            "zerolinecolor": "white"
           }
          },
          "shapedefaults": {
           "line": {
            "color": "#2a3f5f"
           }
          },
          "ternary": {
           "aaxis": {
            "gridcolor": "white",
            "linecolor": "white",
            "ticks": ""
           },
           "baxis": {
            "gridcolor": "white",
            "linecolor": "white",
            "ticks": ""
           },
           "bgcolor": "#E5ECF6",
           "caxis": {
            "gridcolor": "white",
            "linecolor": "white",
            "ticks": ""
           }
          },
          "title": {
           "x": 0.05
          },
          "xaxis": {
           "automargin": true,
           "gridcolor": "white",
           "linecolor": "white",
           "ticks": "",
           "title": {
            "standoff": 15
           },
           "zerolinecolor": "white",
           "zerolinewidth": 2
          },
          "yaxis": {
           "automargin": true,
           "gridcolor": "white",
           "linecolor": "white",
           "ticks": "",
           "title": {
            "standoff": 15
           },
           "zerolinecolor": "white",
           "zerolinewidth": 2
          }
         }
        },
        "title": {
         "text": "Distribution of Ratings(by Decade)"
        },
        "xaxis": {
         "title": {
          "text": "Decades Of Music"
         }
        },
        "yaxis": {
         "title": {
          "text": "Rating Score"
         }
        }
       }
      }
     },
     "metadata": {},
     "output_type": "display_data"
    }
   ],
   "source": [
    "# Boxplot Creation for total visualization of the data\n",
    "\n",
    "# Grpuping data by the Decade of music\n",
    "the_50s = df[(df['Year_Of_Release']>= 1950) & (df['Year_Of_Release'] < 1960)]\n",
    "the_60s = df[(df['Year_Of_Release']>= 1960) & (df['Year_Of_Release'] < 1970)] \n",
    "the_70s = df[(df['Year_Of_Release']>= 1970) & (df['Year_Of_Release'] < 1980)]\n",
    "the_80s = df[(df['Year_Of_Release']>= 1980) & (df['Year_Of_Release'] < 1990)]\n",
    "the_90s = df[(df['Year_Of_Release']>= 1990) & (df['Year_Of_Release'] < 2000)]\n",
    "the_00s = df[(df['Year_Of_Release']>= 2000) & (df['Year_Of_Release'] < 2010)]\n",
    "the_10s = df[(df['Year_Of_Release']>= 2010) & (df['Year_Of_Release'] < 2020)]\n",
    "the_20s = df[(df['Year_Of_Release']>= 2020) & (df['Year_Of_Release'] < 2030)]\n",
    "\n",
    "# Grouping Data Together\n",
    "decades_of_music = [the_50s, the_60s,the_70s, the_80s, the_90s, the_00s, the_10s, the_20s]\n",
    "\n",
    "# Labels\n",
    "decade_labels = ['1950\\'s', '1960\\'s', '1970\\'s', '1980\\'s', '1990\\'s', '2000\\'s', '2010\\'s', '2020\\'s']\n",
    "\n",
    "# Graph the data\n",
    "fig = go.Figure()\n",
    "\n",
    "for data, label in zip(decades_of_music, decade_labels):\n",
    "    fig.add_trace(go.Box(\n",
    "        y=data['Rating'], \n",
    "        name=label,                \n",
    "        boxmean='sd',                  \n",
    "        line=dict(width=2),            \n",
    "        marker=dict(size=6),          \n",
    "        boxpoints='all',               \n",
    "    ))\n",
    "\n",
    "# Updating labels for readability\n",
    "fig.update_layout(\n",
    "    title_text = 'Distribution of Ratings(by Decade)',\n",
    "    xaxis_title = 'Decades Of Music',\n",
    "    yaxis_title = 'Rating Score',\n",
    ")\n",
    "\n",
    "# Showing the data\n",
    "fig.show()\n"
   ]
  }
 ],
 "metadata": {
  "kernelspec": {
   "display_name": ".venv",
   "language": "python",
   "name": "python3"
  },
  "language_info": {
   "codemirror_mode": {
    "name": "ipython",
    "version": 3
   },
   "file_extension": ".py",
   "mimetype": "text/x-python",
   "name": "python",
   "nbconvert_exporter": "python",
   "pygments_lexer": "ipython3",
   "version": "3.12.0"
  }
 },
 "nbformat": 4,
 "nbformat_minor": 2
}
